{
 "cells": [
  {
   "cell_type": "code",
   "execution_count": null,
   "id": "ff0e9cc0-acee-459e-aeff-7b34522dab43",
   "metadata": {},
   "outputs": [],
   "source": [
    "from os.path import join as opj\n",
    "import numpy as np\n",
    "import matplotlib as mpl\n",
    "mpl.rcParams['figure.dpi'] = 100"
   ]
  },
  {
   "cell_type": "code",
   "execution_count": null,
   "id": "b124fab2-cfd4-4b39-9157-621eefa61e9a",
   "metadata": {},
   "outputs": [],
   "source": [
    "data_root = '/om2/user/rogerjin/data'\n",
    "data_path = opj(data_root, 'data_files_new.npz')\n",
    "data = np.load(data_path)\n",
    "rna = data['rna_train']\n",
    "atac = data['atac_train_small']"
   ]
  },
  {
   "cell_type": "code",
   "execution_count": null,
   "id": "10ff63cf-b414-43c5-bd79-6c29fd82df93",
   "metadata": {},
   "outputs": [],
   "source": [
    "def zero_frac(arr):\n",
    "    zero_count = np.count_nonzero(arr==0)\n",
    "    return zero_count/arr.size"
   ]
  },
  {
   "cell_type": "code",
   "execution_count": null,
   "id": "8c85f5d4-f663-45f2-9e15-ada7b89c4efe",
   "metadata": {},
   "outputs": [],
   "source": [
    "print('rna zero frac:', zero_frac(rna))\n",
    "print('atac zero frac:', zero_frac(atac))"
   ]
  },
  {
   "cell_type": "code",
   "execution_count": null,
   "id": "ac33ddb9-f2d4-4cc1-bd46-360d5bd90dcd",
   "metadata": {},
   "outputs": [],
   "source": []
  },
  {
   "cell_type": "code",
   "execution_count": null,
   "id": "9e22c86f-b834-4f70-a118-644e9d92c329",
   "metadata": {},
   "outputs": [],
   "source": [
    "from sklearn.decomposition import PCA\n",
    "\n",
    "def test_pca_reconstruction(arr, n_components):\n",
    "    baseline = np.var(arr)*arr.size # mse for mean prediction\n",
    "    pca = PCA(n_components=n_components)\n",
    "    pca.fit(arr)\n",
    "    trans = pca.transform(arr)\n",
    "    recon = pca.inverse_transform(trans)\n",
    "    mse = ((arr - recon)*(arr - recon)).sum()\n",
    "    return mse/baseline"
   ]
  },
  {
   "cell_type": "code",
   "execution_count": null,
   "id": "2f9970e2-711a-4992-9f14-90d5aea18e6d",
   "metadata": {},
   "outputs": [],
   "source": [
    "mses = []\n",
    "n_vals = [10*(2**k) for k in range(9)]\n",
    "for n_components in n_vals:\n",
    "    mses.append(test_pca_reconstruction(atac, n_components))"
   ]
  },
  {
   "cell_type": "code",
   "execution_count": null,
   "id": "f2fe582a-ae9a-4343-8f90-b70653fcf622",
   "metadata": {},
   "outputs": [],
   "source": [
    "import pandas as pd\n",
    "pca_recon_df = pd.DataFrame()\n",
    "pca_recon_df['Normalized MSE'] = mses\n",
    "pca_recon_df['Number of PCA Components'] = n_vals"
   ]
  },
  {
   "cell_type": "code",
   "execution_count": null,
   "id": "b187db7c-f93a-41ad-b637-f87795ec57e8",
   "metadata": {},
   "outputs": [],
   "source": [
    "import seaborn as sns\n",
    "import matplotlib.pyplot as plt\n",
    "\n",
    "ax = sns.scatterplot(data=pca_recon_df, x='Number of PCA Components', y='Normalized MSE')\n",
    "sns.lineplot(data=pca_recon_df, x='Number of PCA Components', y='Normalized MSE')\n",
    "ax.set(ylabel='Normalized MSE of Reconstruction', title='ATAC Reconstruction via PCA')\n",
    "plt.savefig('atac_pca_recon.png', dpi=300)"
   ]
  },
  {
   "cell_type": "code",
   "execution_count": null,
   "id": "95a1b13b-d0d7-431f-bd84-0a1d7167c82f",
   "metadata": {},
   "outputs": [],
   "source": [
    "pca_recon_df.to_csv('atac_pca_recon_experiment.csv', index=False)"
   ]
  },
  {
   "cell_type": "code",
   "execution_count": null,
   "id": "d8507fea-2714-4e18-a357-757130887d18",
   "metadata": {},
   "outputs": [],
   "source": [
    "atac.shape"
   ]
  },
  {
   "cell_type": "code",
   "execution_count": null,
   "id": "ec18ae77-4d41-4be1-9cc9-7f1e4945774a",
   "metadata": {},
   "outputs": [],
   "source": [
    "mses = []\n",
    "n_vals = [10*(2**k) for k in range(9)]\n",
    "for n_components in n_vals:\n",
    "    mses.append(test_pca_reconstruction(rna, n_components))\n",
    "    \n",
    "import pandas as pd\n",
    "pca_recon_df = pd.DataFrame()\n",
    "pca_recon_df['Normalized MSE'] = mses\n",
    "pca_recon_df['Number of PCA Components'] = n_vals\n",
    "pca_recon_df.to_csv('rna_pca_recon_experiment.csv', index=False)"
   ]
  },
  {
   "cell_type": "code",
   "execution_count": null,
   "id": "8ec364f4-5c9a-4dfa-bcde-a1c0c6366bfe",
   "metadata": {},
   "outputs": [],
   "source": [
    "import seaborn as sns\n",
    "import matplotlib.pyplot as plt\n",
    "\n",
    "ax = sns.scatterplot(data=pca_recon_df, x='Number of PCA Components', y='Normalized MSE')\n",
    "sns.lineplot(data=pca_recon_df, x='Number of PCA Components', y='Normalized MSE')\n",
    "ax.set(ylabel='Normalized MSE of Reconstruction', title='RNA Reconstruction via PCA')\n",
    "plt.savefig('rna_pca_recon.png', dpi=300)"
   ]
  },
  {
   "cell_type": "code",
   "execution_count": null,
   "id": "bad5d29c-0dbc-472f-9da5-da5fe309c397",
   "metadata": {},
   "outputs": [],
   "source": [
    "rna_df = pd.read_csv('rna_pca_recon_experiment.csv')\n",
    "atac_df = pd.read_csv('atac_pca_recon_experiment.csv')"
   ]
  },
  {
   "cell_type": "code",
   "execution_count": null,
   "id": "db6f82dc-d409-4a09-91b7-b6eef787fc83",
   "metadata": {},
   "outputs": [],
   "source": [
    "merged = pd.DataFrame()\n",
    "merged['Number of PCA Components'] = rna_df['Number of PCA Components']\n",
    "merged['RNA'] = rna_df['Normalized MSE']\n",
    "merged['ATAC'] = atac_df['Normalized MSE']\n",
    "merged.to_csv('rna_atac_recon.csv', index=False)"
   ]
  },
  {
   "cell_type": "code",
   "execution_count": null,
   "id": "1dd89a77-f19a-4f16-8df9-2744813c01c3",
   "metadata": {},
   "outputs": [],
   "source": [
    "ax = sns.scatterplot(data=merged, x='Number of PCA Components', y='RNA')\n",
    "sns.scatterplot(data=merged, x='Number of PCA Components', y='ATAC')\n",
    "sns.lineplot(data=merged, x='Number of PCA Components', y='RNA', label='RNA')\n",
    "sns.lineplot(data=merged, x='Number of PCA Components', y='ATAC', label='ATAC')\n",
    "ax.set(ylabel='Normalized MSE of Reconstruction', title='Normalized MSE of RNA and ATAC PCA Reconstructions')\n",
    "plt.savefig('rna_atac_recon.png', dpi=300)"
   ]
  },
  {
   "cell_type": "code",
   "execution_count": null,
   "id": "445a4444-8b98-4f6f-9a91-f24322df26e5",
   "metadata": {},
   "outputs": [],
   "source": [
    "import matplotlib.pyplot as plt\n",
    "\n",
    "plt.imshow(atac, cmap='jet')"
   ]
  },
  {
   "cell_type": "code",
   "execution_count": null,
   "id": "fc5dee58-f91f-49c5-9bc5-8d4d54b30de7",
   "metadata": {},
   "outputs": [],
   "source": [
    "plt.imshow(rna, cmap='jet')"
   ]
  },
  {
   "cell_type": "code",
   "execution_count": null,
   "id": "c1ae2c32-1be8-4950-b085-0f9cb86d5fb8",
   "metadata": {},
   "outputs": [],
   "source": []
  },
  {
   "cell_type": "code",
   "execution_count": null,
   "id": "2506c579-8fd0-4575-9edb-e518ca07d2a9",
   "metadata": {},
   "outputs": [],
   "source": [
    "list(data.keys())"
   ]
  },
  {
   "cell_type": "code",
   "execution_count": null,
   "id": "dc42862c-5507-490f-ba1d-d0c646462eeb",
   "metadata": {},
   "outputs": [],
   "source": [
    "import torch"
   ]
  },
  {
   "cell_type": "code",
   "execution_count": null,
   "id": "6340ad59-3386-466c-8f11-332fe421e65c",
   "metadata": {},
   "outputs": [],
   "source": [
    "atac = torch.Tensor(atac).to('cuda:0')\n",
    "rna = torch.Tensor(rna).to('cuda:0')"
   ]
  },
  {
   "cell_type": "code",
   "execution_count": null,
   "id": "1ae4792a-907a-47b5-802c-79372fdf0e9d",
   "metadata": {},
   "outputs": [],
   "source": [
    "atac_corr = atac.T @ atac"
   ]
  },
  {
   "cell_type": "code",
   "execution_count": null,
   "id": "47777bab-62d6-4e7d-9323-1b14ba2380bc",
   "metadata": {},
   "outputs": [],
   "source": [
    "rna_corr = rna.T @ rna"
   ]
  },
  {
   "cell_type": "code",
   "execution_count": null,
   "id": "4f31a2c6-1e59-4f2c-a68c-8e175cd454e9",
   "metadata": {},
   "outputs": [],
   "source": [
    "print(zero_frac(atac_corr.cpu().numpy()))\n",
    "print(zero_frac(rna_corr.cpu().numpy()))"
   ]
  },
  {
   "cell_type": "code",
   "execution_count": null,
   "id": "8293f3bb-9c4d-4b3b-8cc7-08aecee5c5f1",
   "metadata": {},
   "outputs": [],
   "source": [
    "embeddings_root = '/om2/user/rogerjin/embeddings'\n",
    "embeddings_corr_dir = f'{embeddings_root}/corr'\n",
    "\n",
    "atac_corr_path = f'{embeddings_corr_dir}/atac.pt'\n",
    "rna_corr_path = f'{embeddings_corr_dir}/rna.pt'\n",
    "\n",
    "torch.save(atac_corr, atac_corr_path)\n",
    "torch.save(rna_corr, rna_corr_path)"
   ]
  },
  {
   "cell_type": "code",
   "execution_count": null,
   "id": "eb64b22f-95e3-4a36-affa-aa9c76721e55",
   "metadata": {},
   "outputs": [],
   "source": [
    "list(data.keys())"
   ]
  },
  {
   "cell_type": "code",
   "execution_count": null,
   "id": "c8a99e06-5659-4b4b-9c33-1cf4dafd0212",
   "metadata": {},
   "outputs": [],
   "source": [
    "print(data['rna_good_feats'].shape)\n",
    "print(data['rna_good_feats'].sum())\n",
    "data['rna_good_feats']"
   ]
  },
  {
   "cell_type": "code",
   "execution_count": null,
   "id": "10157075-f6f3-462f-bfed-06f254d3d976",
   "metadata": {},
   "outputs": [],
   "source": [
    "print(data['peak_selector'].shape)\n",
    "print(data['peak_selector'].sum())\n",
    "data['peak_selector']"
   ]
  },
  {
   "cell_type": "code",
   "execution_count": null,
   "id": "58337771-efc4-4376-8e95-a36779b90266",
   "metadata": {},
   "outputs": [],
   "source": [
    "import pandas as pd\n",
    "gene_list = pd.read_csv(f'{data_root}/gene_list.csv', header=None)"
   ]
  },
  {
   "cell_type": "code",
   "execution_count": null,
   "id": "3a84ad2b-6633-40d6-b109-7512cf486f58",
   "metadata": {},
   "outputs": [],
   "source": [
    "chosen_genes = gene_list[data['rna_good_feats']]"
   ]
  },
  {
   "cell_type": "code",
   "execution_count": null,
   "id": "bc50a2f4-aa15-4396-a1d2-482df575703e",
   "metadata": {},
   "outputs": [],
   "source": [
    "list(chosen_genes[1])"
   ]
  },
  {
   "cell_type": "code",
   "execution_count": null,
   "id": "37f933e2-704b-4e05-be8a-98543adae614",
   "metadata": {},
   "outputs": [],
   "source": [
    "from os.path import join as opj\n",
    "import numpy as np\n",
    "\n",
    "data_root = '/om2/user/rogerjin/data'\n",
    "data_path = opj(data_root, 'data_files_new.npz')\n",
    "data = np.load(data_path, allow_pickle=True)\n",
    "cell_labels_train = data['cell_type_train']"
   ]
  },
  {
   "cell_type": "code",
   "execution_count": null,
   "id": "a1ee7309-a9a2-472e-b741-4ba5237dafac",
   "metadata": {},
   "outputs": [],
   "source": [
    "cell_labels_train.shape"
   ]
  },
  {
   "cell_type": "code",
   "execution_count": null,
   "id": "b8065db4-73a8-405e-97a0-3c7c841e44bc",
   "metadata": {},
   "outputs": [],
   "source": [
    "from GanoliModel import GanoliShallowGAN"
   ]
  },
  {
   "cell_type": "code",
   "execution_count": null,
   "id": "29fc6b6b-2d18-45ea-abff-cc4fc1b97ccd",
   "metadata": {},
   "outputs": [],
   "source": [
    "gan = GanoliShallowGAN(7445, 3808)"
   ]
  },
  {
   "cell_type": "code",
   "execution_count": null,
   "id": "5f19165c-2eab-4bea-b5af-174250bd1f15",
   "metadata": {},
   "outputs": [],
   "source": [
    "%load_ext autoreload\n",
    "%autoreload 2"
   ]
  },
  {
   "cell_type": "code",
   "execution_count": null,
   "id": "21c0ab55-e47f-4f13-983f-11c3f30f5bf7",
   "metadata": {},
   "outputs": [],
   "source": [
    "checkpoint_path = '/om2/user/rogerjin/GANOLI/ganoli/models/logs/shallow/default/version_5/checkpoints/epoch=17-val_oracle_total=1.73.ckpt'\n",
    "ckpt_model = GanoliShallowGAN.load_from_checkpoint(checkpoint_path=checkpoint_path, rna_shape=7445, atac_shape=3808)"
   ]
  },
  {
   "cell_type": "code",
   "execution_count": null,
   "id": "762e98bc-fca5-4b20-a4dd-ed5bf062c9f8",
   "metadata": {},
   "outputs": [],
   "source": [
    "ckpt_model.to('cuda:0')"
   ]
  },
  {
   "cell_type": "code",
   "execution_count": null,
   "id": "16047775-700b-41b9-a4fa-c73770604278",
   "metadata": {},
   "outputs": [],
   "source": [
    "atac_val = data['atac_test_small']"
   ]
  },
  {
   "cell_type": "code",
   "execution_count": null,
   "id": "1c252d11-e52e-4f03-bc2f-46dd5142c6c0",
   "metadata": {},
   "outputs": [],
   "source": [
    "import torch\n",
    "atac_val = torch.Tensor(atac_val).to('cuda:0')"
   ]
  },
  {
   "cell_type": "code",
   "execution_count": null,
   "id": "db6cf114-5529-4bf6-8a0d-120e0dd8b288",
   "metadata": {},
   "outputs": [],
   "source": [
    "atac_val_mini = atac_val[:10, :]"
   ]
  },
  {
   "cell_type": "code",
   "execution_count": null,
   "id": "ab69975a-cded-476b-8bda-c74e7cc5a288",
   "metadata": {},
   "outputs": [],
   "source": [
    "rna_val_pred = ckpt_model(atac_val,data_type='atac')"
   ]
  },
  {
   "cell_type": "code",
   "execution_count": null,
   "id": "7c154dfe-583c-45b0-9491-1e7e8b2bf828",
   "metadata": {},
   "outputs": [],
   "source": [
    "rna_val_pred.shape"
   ]
  },
  {
   "cell_type": "code",
   "execution_count": null,
   "id": "9333acad-2848-43da-aa63-eb5780f03ed9",
   "metadata": {},
   "outputs": [],
   "source": [
    "rna_val_labels = data['cell_type_test']"
   ]
  },
  {
   "cell_type": "code",
   "execution_count": null,
   "id": "e44232c3-1ab8-48d3-a6cc-02e2298e5613",
   "metadata": {},
   "outputs": [],
   "source": [
    "import umap\n",
    "reducer = umap.UMAP(densmap=True) \n",
    "rna_trans = reducer.fit_transform(rna_val_pred.detach().cpu().numpy())"
   ]
  },
  {
   "cell_type": "code",
   "execution_count": null,
   "id": "02c85fb0-1e55-431e-b4ec-2854e44f0ef8",
   "metadata": {},
   "outputs": [],
   "source": [
    "rna_trans.shape"
   ]
  },
  {
   "cell_type": "code",
   "execution_count": null,
   "id": "1a26f3aa-7420-42bf-bdd0-bf732b16f515",
   "metadata": {},
   "outputs": [],
   "source": [
    "import benplot"
   ]
  },
  {
   "cell_type": "code",
   "execution_count": null,
   "id": "49420d5f-f738-4acb-88b4-6cdf360bfd5a",
   "metadata": {},
   "outputs": [],
   "source": [
    "benplot.plot_lowdim_rep(rna_trans, rna_val_labels)"
   ]
  },
  {
   "cell_type": "code",
   "execution_count": null,
   "id": "969c9f9c-003d-48a5-ae08-e5e159718389",
   "metadata": {},
   "outputs": [],
   "source": [
    "rna_val = data['rna_test']\n",
    "reducer = umap.UMAP(densmap=True, min_dist=0.001) \n",
    "rna_true_trans = reducer.fit_transform(rna_val)"
   ]
  },
  {
   "cell_type": "code",
   "execution_count": null,
   "id": "6db1c25d-bf31-4bd7-9f13-647dc481ebe0",
   "metadata": {},
   "outputs": [],
   "source": [
    "benplot.plot_lowdim_rep(rna_true_trans, rna_val_labels)"
   ]
  },
  {
   "cell_type": "code",
   "execution_count": null,
   "id": "f43324b6-e654-4a6c-a336-8301d3c579a5",
   "metadata": {},
   "outputs": [],
   "source": [
    "from sklearn.decomposition import PCA\n",
    "\n",
    "rna_val = data['rna_test']\n",
    "reducer = PCA(n_components=2) \n",
    "rna_true_trans = reducer.fit_transform(rna_val)\n",
    "benplot.plot_lowdim_rep(rna_true_trans, rna_val_labels)"
   ]
  },
  {
   "cell_type": "code",
   "execution_count": null,
   "id": "5dc431a3-cbd0-4bd5-bd21-ac3b44a07a89",
   "metadata": {},
   "outputs": [],
   "source": [
    "reducer = PCA(n_components=2) \n",
    "rna_pred_trans = reducer.fit_transform(rna_val_pred.detach().cpu().numpy())\n",
    "benplot.plot_lowdim_rep(rna_pred_trans, rna_val_labels)"
   ]
  },
  {
   "cell_type": "code",
   "execution_count": null,
   "id": "f3ca126c-a95e-4517-be89-8a0d8e269e0e",
   "metadata": {},
   "outputs": [],
   "source": [
    "rna_val = torch.Tensor(rna_val).to('cuda:0')\n",
    "atac_val_pred = ckpt_model(rna_val,data_type='rna')"
   ]
  },
  {
   "cell_type": "code",
   "execution_count": null,
   "id": "1149474c-7479-417d-99e2-d0f7cc9c3413",
   "metadata": {},
   "outputs": [],
   "source": [
    "atac_val_pred"
   ]
  },
  {
   "cell_type": "code",
   "execution_count": null,
   "id": "0a20d158-9b8b-4608-8ba2-a7caf33d2f45",
   "metadata": {},
   "outputs": [],
   "source": [
    "atac_val_pred"
   ]
  },
  {
   "cell_type": "code",
   "execution_count": null,
   "id": "398e0cad-9077-41d9-ba5b-f844add39c91",
   "metadata": {},
   "outputs": [],
   "source": [
    "type(atac_val)"
   ]
  },
  {
   "cell_type": "code",
   "execution_count": null,
   "id": "f3582395-2da6-4f54-9cc7-f9dc3a098cd5",
   "metadata": {},
   "outputs": [],
   "source": [
    "from sklearn.metrics import roc_auc_score\n",
    "import pandas as pd\n",
    "\n",
    "aurocs = []\n",
    "for i in range(atac_val.shape[1]):\n",
    "    auroc = roc_auc_score(atac_val[:, i].detach().cpu().numpy(), atac_val_pred[:, i].detach().cpu().numpy())\n",
    "    aurocs.append(auroc)\n",
    "\n",
    "atac_rocs = pd.DataFrame()\n",
    "atac_rocs['auroc'] = aurocs"
   ]
  },
  {
   "cell_type": "code",
   "execution_count": null,
   "id": "5c9ecec5-2894-4316-b5dc-c7b1ee07e4a1",
   "metadata": {},
   "outputs": [],
   "source": [
    "atac_rocs.hist()"
   ]
  },
  {
   "cell_type": "code",
   "execution_count": null,
   "id": "5c3b501f-4687-49fb-b263-c5de279a31f3",
   "metadata": {},
   "outputs": [],
   "source": [
    "atac_rocs.mean()"
   ]
  },
  {
   "cell_type": "code",
   "execution_count": null,
   "id": "66492ad8-1d8f-477a-b568-324b681d15bd",
   "metadata": {},
   "outputs": [],
   "source": []
  }
 ],
 "metadata": {
  "kernelspec": {
   "display_name": "ganoli",
   "language": "python",
   "name": "python3"
  },
  "language_info": {
   "codemirror_mode": {
    "name": "ipython",
    "version": 3
   },
   "file_extension": ".py",
   "mimetype": "text/x-python",
   "name": "python",
   "nbconvert_exporter": "python",
   "pygments_lexer": "ipython3",
   "version": "3.7.9"
  }
 },
 "nbformat": 4,
 "nbformat_minor": 5
}
