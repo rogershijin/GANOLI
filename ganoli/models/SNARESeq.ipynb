{
 "cells": [
  {
   "cell_type": "code",
   "execution_count": 1,
   "id": "46e218d4-e12e-41d1-9ea7-39cf54d1b839",
   "metadata": {},
   "outputs": [],
   "source": [
    "%load_ext autoreload\n",
    "%autoreload 2"
   ]
  },
  {
   "cell_type": "code",
   "execution_count": 2,
   "id": "e77af4e2-04d1-47ff-bc43-c38b762421ec",
   "metadata": {},
   "outputs": [],
   "source": [
    "data_dir = '/om2/user/rogerjin/data/SNARESeq/original/adult_brain_cortex'\n",
    "cdna_path = f'{data_dir}/GSE126074_AdBrainCortex_SNAREseq_cDNA.counts.mtx'\n",
    "cdna_genes_path = f'{data_dir}/GSE126074_AdBrainCortex_SNAREseq_cDNA.genes.tsv'\n",
    "atac_path = f'{data_dir}/GSE126074_AdBrainCortex_SNAREseq_chromatin.counts.mtx'\n",
    "cdna_barcodes_path = f'{data_dir}/GSE126074_AdBrainCortex_SNAREseq_cDNA.barcodes.tsv'"
   ]
  },
  {
   "cell_type": "code",
   "execution_count": 2,
   "id": "c9961470-9c40-4b5b-8160-bec121e2edb3",
   "metadata": {},
   "outputs": [],
   "source": [
    "# import sys\n",
    "\n",
    "# num_bytes = sys.getsizeof(rna)\n",
    "\n",
    "# def sizeof_fmt(num, suffix=\"B\"):\n",
    "#     # https://stackoverflow.com/questions/1094841/get-human-readable-version-of-file-size\n",
    "#     for unit in [\"\", \"Ki\", \"Mi\", \"Gi\", \"Ti\", \"Pi\", \"Ei\", \"Zi\"]:\n",
    "#         if abs(num) < 1024.0:\n",
    "#             return f\"{num:3.1f}{unit}{suffix}\"\n",
    "#         num /= 1024.0\n",
    "#     return f\"{num:.1f}Yi{suffix}\"\n",
    "\n",
    "# sizeof_fmt(num_bytes)"
   ]
  },
  {
   "cell_type": "code",
   "execution_count": 3,
   "id": "714de1b0-b421-441c-b5a3-a6b1aa3969d7",
   "metadata": {},
   "outputs": [],
   "source": [
    "import scanpy as sc\n",
    "\n",
    "sc.set_figure_params(dpi=300)\n",
    "sc._settings.ScanpyConfig.n_jobs = 4"
   ]
  },
  {
   "cell_type": "code",
   "execution_count": 4,
   "id": "12dd30f0-3a41-4c2c-9860-12d27cc26dfa",
   "metadata": {},
   "outputs": [
    {
     "data": {
      "text/html": [
       "<div>\n",
       "<style scoped>\n",
       "    .dataframe tbody tr th:only-of-type {\n",
       "        vertical-align: middle;\n",
       "    }\n",
       "\n",
       "    .dataframe tbody tr th {\n",
       "        vertical-align: top;\n",
       "    }\n",
       "\n",
       "    .dataframe thead th {\n",
       "        text-align: right;\n",
       "    }\n",
       "</style>\n",
       "<table border=\"1\" class=\"dataframe\">\n",
       "  <thead>\n",
       "    <tr style=\"text-align: right;\">\n",
       "      <th></th>\n",
       "      <th>cell_id</th>\n",
       "    </tr>\n",
       "  </thead>\n",
       "  <tbody>\n",
       "    <tr>\n",
       "      <th>0</th>\n",
       "      <td>09A_CAGCCCCGCCTT</td>\n",
       "    </tr>\n",
       "    <tr>\n",
       "      <th>1</th>\n",
       "      <td>09A_CGCCTACCATGA</td>\n",
       "    </tr>\n",
       "    <tr>\n",
       "      <th>2</th>\n",
       "      <td>09A_GATGCGCGGCTA</td>\n",
       "    </tr>\n",
       "    <tr>\n",
       "      <th>3</th>\n",
       "      <td>09A_GGTCCGAGTCCT</td>\n",
       "    </tr>\n",
       "    <tr>\n",
       "      <th>4</th>\n",
       "      <td>09A_TCTCCCGGCACC</td>\n",
       "    </tr>\n",
       "    <tr>\n",
       "      <th>...</th>\n",
       "      <td>...</td>\n",
       "    </tr>\n",
       "    <tr>\n",
       "      <th>10304</th>\n",
       "      <td>09L_TACTAGTTCAAG</td>\n",
       "    </tr>\n",
       "    <tr>\n",
       "      <th>10305</th>\n",
       "      <td>09L_ATGACGGGCCCC</td>\n",
       "    </tr>\n",
       "    <tr>\n",
       "      <th>10306</th>\n",
       "      <td>09L_GAAACACCTCAT</td>\n",
       "    </tr>\n",
       "    <tr>\n",
       "      <th>10307</th>\n",
       "      <td>09L_AACGGTTTATCC</td>\n",
       "    </tr>\n",
       "    <tr>\n",
       "      <th>10308</th>\n",
       "      <td>09L_GACTGATACAGT</td>\n",
       "    </tr>\n",
       "  </tbody>\n",
       "</table>\n",
       "<p>10309 rows × 1 columns</p>\n",
       "</div>"
      ],
      "text/plain": [
       "                cell_id\n",
       "0      09A_CAGCCCCGCCTT\n",
       "1      09A_CGCCTACCATGA\n",
       "2      09A_GATGCGCGGCTA\n",
       "3      09A_GGTCCGAGTCCT\n",
       "4      09A_TCTCCCGGCACC\n",
       "...                 ...\n",
       "10304  09L_TACTAGTTCAAG\n",
       "10305  09L_ATGACGGGCCCC\n",
       "10306  09L_GAAACACCTCAT\n",
       "10307  09L_AACGGTTTATCC\n",
       "10308  09L_GACTGATACAGT\n",
       "\n",
       "[10309 rows x 1 columns]"
      ]
     },
     "execution_count": 4,
     "metadata": {},
     "output_type": "execute_result"
    }
   ],
   "source": [
    "import pandas as pd\n",
    "\n",
    "rna = sc.read_mtx(cdna_path).T\n",
    "cell_ids = pd.read_csv(cdna_barcodes_path, header=None)\n",
    "cell_ids.index = cell_ids.index.map(str)\n",
    "cell_ids.columns = ['cell_id']\n",
    "cell_ids"
   ]
  },
  {
   "cell_type": "code",
   "execution_count": 5,
   "id": "4951faab-005d-4328-bfcc-6416b2322e5c",
   "metadata": {},
   "outputs": [],
   "source": [
    "labels_path = 'snareseq_ad_annot_labeled.csv'\n",
    "labels = pd.read_csv(labels_path).drop(['Unnamed: 0', 'Unnamed: 0.1'], axis=1)\n",
    "cell_types = labels[['cell_id', 'cell_type']]"
   ]
  },
  {
   "cell_type": "code",
   "execution_count": null,
   "id": "7f25ff51-bf5e-4e13-98e2-3d051fb5782d",
   "metadata": {},
   "outputs": [],
   "source": [
    "rna.obs = rna.obs.merge(cell_ids, left_index=True, right_index=True)"
   ]
  },
  {
   "cell_type": "code",
   "execution_count": null,
   "id": "32c54185-20cf-4341-9db3-47d233398b62",
   "metadata": {},
   "outputs": [],
   "source": [
    "import pandas as pd\n",
    "rna_genes = pd.read_csv(cdna_genes_path, header=None)"
   ]
  },
  {
   "cell_type": "code",
   "execution_count": null,
   "id": "cf35f942-cf6c-4a5f-a34a-5a46acc55320",
   "metadata": {},
   "outputs": [],
   "source": [
    "mito_genes = pd.read_csv('mitochondrial_genes.csv')\n",
    "mito_genes"
   ]
  },
  {
   "cell_type": "code",
   "execution_count": null,
   "id": "9771cd8b-c1f8-4d96-9b2c-35e0e25cf63a",
   "metadata": {},
   "outputs": [],
   "source": [
    "# is_mito = rna_genes.apply(lambda gene: gene i\n",
    "mito_gene_set = set(mito_genes.Symbol)\n",
    "is_mito = rna_genes[0].apply(lambda gene: gene in mito_gene_set)\n",
    "\n",
    "# compute % mitochondrial reads\n",
    "rna.var_names = rna_genes[0]\n",
    "rna.var['mt'] = rna.var_names.isin(mito_gene_set)"
   ]
  },
  {
   "cell_type": "code",
   "execution_count": null,
   "id": "c7744c90-0c94-42a7-9c5c-38b90a44a30b",
   "metadata": {},
   "outputs": [],
   "source": [
    "rna.var['mt']"
   ]
  },
  {
   "cell_type": "code",
   "execution_count": null,
   "id": "3c0022a9-d0cb-4178-8844-0039939327a0",
   "metadata": {},
   "outputs": [],
   "source": [
    "sc.pp.calculate_qc_metrics(rna, qc_vars=['mt'], percent_top=None, log1p=False, inplace=True)"
   ]
  },
  {
   "cell_type": "code",
   "execution_count": null,
   "id": "77569da7-794d-4c38-9c2d-1e228606393b",
   "metadata": {},
   "outputs": [],
   "source": [
    "sc.pl.highest_expr_genes(rna, n_top=20)"
   ]
  },
  {
   "cell_type": "code",
   "execution_count": null,
   "id": "83bab4e0-f545-40a2-b13a-362733842217",
   "metadata": {},
   "outputs": [],
   "source": [
    "sc.pp.filter_cells(rna, min_genes=200)\n",
    "sc.pp.filter_genes(rna, min_cells=3)"
   ]
  },
  {
   "cell_type": "code",
   "execution_count": null,
   "id": "82782f31-cb27-4a31-b809-e54f0b5e80fc",
   "metadata": {},
   "outputs": [],
   "source": [
    "sc.pl.violin(rna, ['n_genes_by_counts', 'total_counts', 'pct_counts_mt'],\n",
    "             jitter=0.4, multi_panel=True)"
   ]
  },
  {
   "cell_type": "code",
   "execution_count": null,
   "id": "9c2f27f5-5848-4d0e-b8d5-c513a8e5c1d2",
   "metadata": {},
   "outputs": [],
   "source": [
    "sc.pl.scatter(rna, x='total_counts', y='pct_counts_mt')\n",
    "sc.pl.scatter(rna, x='total_counts', y='n_genes_by_counts')"
   ]
  },
  {
   "cell_type": "code",
   "execution_count": null,
   "id": "454a66ae-f8d2-4381-a8b4-9755f19811ff",
   "metadata": {},
   "outputs": [],
   "source": [
    "rna = rna[rna.obs.n_genes_by_counts < 2500, :]\n",
    "rna = rna[rna.obs.pct_counts_mt < 5, :]"
   ]
  },
  {
   "cell_type": "code",
   "execution_count": null,
   "id": "e3479f09-aa3d-4628-a20f-99e4f29e40cc",
   "metadata": {},
   "outputs": [],
   "source": [
    "rna.obs['idx'] = rna.obs.index\n",
    "merged = rna.obs.merge(cell_types, on='cell_id')\n",
    "rna = rna[merged.idx, :]\n",
    "rna.obs['cell_type'] = merged.cell_type.values"
   ]
  },
  {
   "cell_type": "code",
   "execution_count": null,
   "id": "29185a9e-cd97-4c44-8e78-d4900a77a541",
   "metadata": {},
   "outputs": [],
   "source": [
    "sc.pp.normalize_total(rna, target_sum=1e4)\n",
    "sc.pp.log1p(rna)\n",
    "sc.pp.highly_variable_genes(rna, min_mean=0.0125, max_mean=3, min_disp=0.5)"
   ]
  },
  {
   "cell_type": "code",
   "execution_count": null,
   "id": "e76df0d7-09eb-431f-bfb9-9c26872b7311",
   "metadata": {},
   "outputs": [],
   "source": [
    "sc.pl.highly_variable_genes(rna)"
   ]
  },
  {
   "cell_type": "code",
   "execution_count": null,
   "id": "e7a930aa-d6ec-4a99-959d-0db738358155",
   "metadata": {},
   "outputs": [],
   "source": [
    "sc.pp.regress_out(rna, ['total_counts', 'pct_counts_mt'])"
   ]
  },
  {
   "cell_type": "code",
   "execution_count": null,
   "id": "c065a7f0-152c-4b05-96e8-5b295e3ba85f",
   "metadata": {},
   "outputs": [],
   "source": [
    "sc.pp.scale(rna, max_value=10)"
   ]
  },
  {
   "cell_type": "code",
   "execution_count": null,
   "id": "2cdafdde-61e4-47ad-bc73-8c6887b3dbac",
   "metadata": {},
   "outputs": [],
   "source": [
    "sc.tl.pca(rna, svd_solver='arpack')"
   ]
  },
  {
   "cell_type": "code",
   "execution_count": null,
   "id": "1fcf0018-0e98-4d1d-bc7d-d446e2c8c880",
   "metadata": {},
   "outputs": [],
   "source": [
    "sc.pl.pca(rna, color='cell_type')"
   ]
  },
  {
   "cell_type": "code",
   "execution_count": null,
   "id": "4d732e26-b98e-4c24-81f7-c71c82ab491f",
   "metadata": {},
   "outputs": [],
   "source": [
    "sc.pl.pca_variance_ratio(rna, log=True)"
   ]
  },
  {
   "cell_type": "code",
   "execution_count": null,
   "id": "4043d85a-9a53-4e31-8200-541f248000c6",
   "metadata": {},
   "outputs": [],
   "source": [
    "sc.pp.neighbors(rna, n_neighbors=10, n_pcs=40)"
   ]
  },
  {
   "cell_type": "code",
   "execution_count": null,
   "id": "b039cfca-27e5-4ead-b8c5-b9beed40d194",
   "metadata": {},
   "outputs": [],
   "source": [
    "sc.tl.leiden(rna)\n",
    "sc.tl.paga(rna)\n",
    "sc.pl.paga(rna, plot=False)\n",
    "sc.tl.umap(rna, init_pos='paga')"
   ]
  },
  {
   "cell_type": "code",
   "execution_count": null,
   "id": "8cd1bc2c-fe56-4a50-81fa-75f6ce213753",
   "metadata": {},
   "outputs": [],
   "source": [
    "sc.pl.umap(rna, color='cell_type')"
   ]
  },
  {
   "cell_type": "code",
   "execution_count": null,
   "id": "33bbaa18-cb6f-4134-b757-2609b96758ef",
   "metadata": {},
   "outputs": [],
   "source": [
    "rna.write('snareseq_rna.h5ad')"
   ]
  },
  {
   "cell_type": "code",
   "execution_count": null,
   "id": "f7e9cb2c-18eb-4c59-a480-c3f442866723",
   "metadata": {},
   "outputs": [],
   "source": [
    "import anndata as ad\n",
    "\n",
    "rna = ad.read('snareseq_rna.h5ad')\n",
    "rna"
   ]
  },
  {
   "cell_type": "code",
   "execution_count": null,
   "id": "13cac010-96b1-4578-af1c-0e164b1a1629",
   "metadata": {},
   "outputs": [],
   "source": []
  },
  {
   "cell_type": "markdown",
   "id": "1fef437d-afc5-4e44-ad8f-7fbcbac798c9",
   "metadata": {},
   "source": [
    "# ATAC"
   ]
  },
  {
   "cell_type": "code",
   "execution_count": 6,
   "id": "47bbfc01-0b48-4a13-8583-7dce67ccf9f5",
   "metadata": {},
   "outputs": [],
   "source": [
    "atac = sc.read_mtx(atac_path).T"
   ]
  },
  {
   "cell_type": "code",
   "execution_count": 7,
   "id": "f8722cbe-ac67-4376-8774-a6107e99c372",
   "metadata": {},
   "outputs": [],
   "source": [
    "import episcanpy.api as epi\n",
    "from ganoli_plot import plot_umap\n",
    "\n",
    "atac.obs = atac.obs.merge(cell_ids, left_index=True, right_index=True)"
   ]
  },
  {
   "cell_type": "code",
   "execution_count": 8,
   "id": "7d861b0f-610b-4194-ad3b-220781120b23",
   "metadata": {},
   "outputs": [
    {
     "name": "stderr",
     "output_type": "stream",
     "text": [
      "Trying to set attribute `.obs` of view, copying.\n"
     ]
    }
   ],
   "source": [
    "atac.obs['idx'] = rna.obs.index\n",
    "merged = atac.obs.merge(cell_types, on='cell_id')\n",
    "atac = atac[merged.idx, :]\n",
    "atac.obs['cell_type'] = merged.cell_type.values"
   ]
  },
  {
   "cell_type": "code",
   "execution_count": 9,
   "id": "e452736c-4832-4e58-95a6-60b2c2d20696",
   "metadata": {},
   "outputs": [
    {
     "name": "stdout",
     "output_type": "stream",
     "text": [
      "WARNING: You’re trying to run this on 244544 dimensions of `.X`, if you really want this, set `use_rep='X'`.\n",
      "         Falling back to preprocessing with `sc.pp.pca` and default params.\n"
     ]
    },
    {
     "name": "stderr",
     "output_type": "stream",
     "text": [
      "... storing 'cell_type' as categorical\n"
     ]
    },
    {
     "ename": "ValueError",
     "evalue": "Given components: '{}' are not valid. Please check. A valid example is `components='2,3'`",
     "output_type": "error",
     "traceback": [
      "\u001b[0;31m---------------------------------------------------------------------------\u001b[0m",
      "\u001b[0;31mIndexError\u001b[0m                                Traceback (most recent call last)",
      "\u001b[0;32m/om2/user/rogerjin/conda/ganoli/lib/python3.7/site-packages/scanpy/plotting/_tools/scatterplots.py\u001b[0m in \u001b[0;36m_get_data_points\u001b[0;34m(adata, basis, projection, components, scale_factor)\u001b[0m\n\u001b[1;32m   1111\u001b[0m             \u001b[0;32mfor\u001b[0m \u001b[0mcomp\u001b[0m \u001b[0;32min\u001b[0m \u001b[0mcomponents_list\u001b[0m\u001b[0;34m:\u001b[0m\u001b[0;34m\u001b[0m\u001b[0;34m\u001b[0m\u001b[0m\n\u001b[0;32m-> 1112\u001b[0;31m                 \u001b[0mdata_points\u001b[0m\u001b[0;34m.\u001b[0m\u001b[0mappend\u001b[0m\u001b[0;34m(\u001b[0m\u001b[0madata\u001b[0m\u001b[0;34m.\u001b[0m\u001b[0mobsm\u001b[0m\u001b[0;34m[\u001b[0m\u001b[0mbasis_key\u001b[0m\u001b[0;34m]\u001b[0m\u001b[0;34m[\u001b[0m\u001b[0;34m:\u001b[0m\u001b[0;34m,\u001b[0m \u001b[0mcomp\u001b[0m\u001b[0;34m]\u001b[0m\u001b[0;34m)\u001b[0m\u001b[0;34m\u001b[0m\u001b[0;34m\u001b[0m\u001b[0m\n\u001b[0m\u001b[1;32m   1113\u001b[0m         \u001b[0;32mexcept\u001b[0m \u001b[0mException\u001b[0m\u001b[0;34m:\u001b[0m  \u001b[0;31m# TODO catch the correct exception\u001b[0m\u001b[0;34m\u001b[0m\u001b[0;34m\u001b[0m\u001b[0m\n",
      "\u001b[0;31mIndexError\u001b[0m: index 2 is out of bounds for axis 1 with size 2",
      "\nDuring handling of the above exception, another exception occurred:\n",
      "\u001b[0;31mValueError\u001b[0m                                Traceback (most recent call last)",
      "\u001b[0;32m<ipython-input-9-395d51d7da6f>\u001b[0m in \u001b[0;36m<module>\u001b[0;34m\u001b[0m\n\u001b[0;32m----> 1\u001b[0;31m \u001b[0mplot_umap\u001b[0m\u001b[0;34m(\u001b[0m\u001b[0matac\u001b[0m\u001b[0;34m,\u001b[0m \u001b[0mlabel_name\u001b[0m\u001b[0;34m=\u001b[0m\u001b[0;34m'cell_type'\u001b[0m\u001b[0;34m,\u001b[0m \u001b[0mpc_range\u001b[0m\u001b[0;34m=\u001b[0m\u001b[0mrange\u001b[0m\u001b[0;34m(\u001b[0m\u001b[0;36m1\u001b[0m\u001b[0;34m,\u001b[0m\u001b[0;36m41\u001b[0m\u001b[0;34m)\u001b[0m\u001b[0;34m)\u001b[0m\u001b[0;34m\u001b[0m\u001b[0;34m\u001b[0m\u001b[0m\n\u001b[0m",
      "\u001b[0;32m/net/vast-storage/scratch/vast/kellislab/rogerjin/GANOLI/ganoli/models/ganoli_plot.py\u001b[0m in \u001b[0;36mplot_umap\u001b[0;34m(data, labels, label_name, pc_range)\u001b[0m\n\u001b[1;32m     13\u001b[0m     \u001b[0msc\u001b[0m\u001b[0;34m.\u001b[0m\u001b[0mpl\u001b[0m\u001b[0;34m.\u001b[0m\u001b[0mpaga\u001b[0m\u001b[0;34m(\u001b[0m\u001b[0mdata\u001b[0m\u001b[0;34m,\u001b[0m \u001b[0mplot\u001b[0m\u001b[0;34m=\u001b[0m\u001b[0;32mFalse\u001b[0m\u001b[0;34m)\u001b[0m\u001b[0;34m\u001b[0m\u001b[0;34m\u001b[0m\u001b[0m\n\u001b[1;32m     14\u001b[0m     \u001b[0msc\u001b[0m\u001b[0;34m.\u001b[0m\u001b[0mtl\u001b[0m\u001b[0;34m.\u001b[0m\u001b[0mumap\u001b[0m\u001b[0;34m(\u001b[0m\u001b[0mdata\u001b[0m\u001b[0;34m,\u001b[0m \u001b[0minit_pos\u001b[0m\u001b[0;34m=\u001b[0m\u001b[0;34m'paga'\u001b[0m\u001b[0;34m)\u001b[0m\u001b[0;34m\u001b[0m\u001b[0;34m\u001b[0m\u001b[0m\n\u001b[0;32m---> 15\u001b[0;31m     \u001b[0msc\u001b[0m\u001b[0;34m.\u001b[0m\u001b[0mpl\u001b[0m\u001b[0;34m.\u001b[0m\u001b[0mumap\u001b[0m\u001b[0;34m(\u001b[0m\u001b[0mdata\u001b[0m\u001b[0;34m,\u001b[0m \u001b[0mcolor\u001b[0m\u001b[0;34m=\u001b[0m\u001b[0mlabel_name\u001b[0m\u001b[0;34m,\u001b[0m \u001b[0mcomponents\u001b[0m\u001b[0;34m=\u001b[0m\u001b[0;34m','\u001b[0m\u001b[0;34m.\u001b[0m\u001b[0mjoin\u001b[0m\u001b[0;34m(\u001b[0m\u001b[0;34m[\u001b[0m\u001b[0mstr\u001b[0m\u001b[0;34m(\u001b[0m\u001b[0mi\u001b[0m\u001b[0;34m)\u001b[0m \u001b[0;32mfor\u001b[0m \u001b[0mi\u001b[0m \u001b[0;32min\u001b[0m \u001b[0mpc_range\u001b[0m\u001b[0;34m]\u001b[0m\u001b[0;34m)\u001b[0m\u001b[0;34m)\u001b[0m \u001b[0;31m# for atac, get rid of 1st pc)\u001b[0m\u001b[0;34m\u001b[0m\u001b[0;34m\u001b[0m\u001b[0m\n\u001b[0m\u001b[1;32m     16\u001b[0m     \u001b[0;32mreturn\u001b[0m \u001b[0mdata\u001b[0m\u001b[0;34m\u001b[0m\u001b[0;34m\u001b[0m\u001b[0m\n",
      "\u001b[0;32m/om2/user/rogerjin/conda/ganoli/lib/python3.7/site-packages/scanpy/plotting/_tools/scatterplots.py\u001b[0m in \u001b[0;36mumap\u001b[0;34m(adata, **kwargs)\u001b[0m\n\u001b[1;32m    657\u001b[0m     \u001b[0mtl\u001b[0m\u001b[0;34m.\u001b[0m\u001b[0mumap\u001b[0m\u001b[0;34m\u001b[0m\u001b[0;34m\u001b[0m\u001b[0m\n\u001b[1;32m    658\u001b[0m     \"\"\"\n\u001b[0;32m--> 659\u001b[0;31m     \u001b[0;32mreturn\u001b[0m \u001b[0membedding\u001b[0m\u001b[0;34m(\u001b[0m\u001b[0madata\u001b[0m\u001b[0;34m,\u001b[0m \u001b[0;34m'umap'\u001b[0m\u001b[0;34m,\u001b[0m \u001b[0;34m**\u001b[0m\u001b[0mkwargs\u001b[0m\u001b[0;34m)\u001b[0m\u001b[0;34m\u001b[0m\u001b[0;34m\u001b[0m\u001b[0m\n\u001b[0m\u001b[1;32m    660\u001b[0m \u001b[0;34m\u001b[0m\u001b[0m\n\u001b[1;32m    661\u001b[0m \u001b[0;34m\u001b[0m\u001b[0m\n",
      "\u001b[0;32m/om2/user/rogerjin/conda/ganoli/lib/python3.7/site-packages/scanpy/plotting/_tools/scatterplots.py\u001b[0m in \u001b[0;36membedding\u001b[0;34m(adata, basis, color, gene_symbols, use_raw, sort_order, edges, edges_width, edges_color, neighbors_key, arrows, arrows_kwds, groups, components, layer, projection, scale_factor, color_map, cmap, palette, na_color, na_in_legend, size, frameon, legend_fontsize, legend_fontweight, legend_loc, legend_fontoutline, vmax, vmin, vcenter, norm, add_outline, outline_width, outline_color, ncols, hspace, wspace, title, show, save, ax, return_fig, **kwargs)\u001b[0m\n\u001b[1;32m    168\u001b[0m     \u001b[0;31m# (only if components is not None)\u001b[0m\u001b[0;34m\u001b[0m\u001b[0;34m\u001b[0m\u001b[0;34m\u001b[0m\u001b[0m\n\u001b[1;32m    169\u001b[0m     data_points, components_list = _get_data_points(\n\u001b[0;32m--> 170\u001b[0;31m         \u001b[0madata\u001b[0m\u001b[0;34m,\u001b[0m \u001b[0mbasis\u001b[0m\u001b[0;34m,\u001b[0m \u001b[0mprojection\u001b[0m\u001b[0;34m,\u001b[0m \u001b[0mcomponents\u001b[0m\u001b[0;34m,\u001b[0m \u001b[0mscale_factor\u001b[0m\u001b[0;34m\u001b[0m\u001b[0;34m\u001b[0m\u001b[0m\n\u001b[0m\u001b[1;32m    171\u001b[0m     )\n\u001b[1;32m    172\u001b[0m \u001b[0;34m\u001b[0m\u001b[0m\n",
      "\u001b[0;32m/om2/user/rogerjin/conda/ganoli/lib/python3.7/site-packages/scanpy/plotting/_tools/scatterplots.py\u001b[0m in \u001b[0;36m_get_data_points\u001b[0;34m(adata, basis, projection, components, scale_factor)\u001b[0m\n\u001b[1;32m   1113\u001b[0m         \u001b[0;32mexcept\u001b[0m \u001b[0mException\u001b[0m\u001b[0;34m:\u001b[0m  \u001b[0;31m# TODO catch the correct exception\u001b[0m\u001b[0;34m\u001b[0m\u001b[0;34m\u001b[0m\u001b[0m\n\u001b[1;32m   1114\u001b[0m             raise ValueError(\n\u001b[0;32m-> 1115\u001b[0;31m                 \u001b[0;34m\"Given components: '{}' are not valid. Please check. \"\u001b[0m\u001b[0;34m\u001b[0m\u001b[0;34m\u001b[0m\u001b[0m\n\u001b[0m\u001b[1;32m   1116\u001b[0m                 \u001b[0;34m\"A valid example is `components='2,3'`\"\u001b[0m\u001b[0;34m\u001b[0m\u001b[0;34m\u001b[0m\u001b[0m\n\u001b[1;32m   1117\u001b[0m             )\n",
      "\u001b[0;31mValueError\u001b[0m: Given components: '{}' are not valid. Please check. A valid example is `components='2,3'`"
     ]
    }
   ],
   "source": [
    "plot_umap(atac, label_name='cell_type') "
   ]
  },
  {
   "cell_type": "code",
   "execution_count": 12,
   "id": "9d553b7a-2925-469d-a720-af5f99c0a7a5",
   "metadata": {},
   "outputs": [
    {
     "data": {
      "text/plain": [
       "'1,2,3,4,5,6,7,8,9,10,11,12,13,14,15,16,17,18,19,20,21,22,23,24,25,26,27,28,29,30,31,32,33,34,35,36,37,38,39,40'"
      ]
     },
     "execution_count": 12,
     "metadata": {},
     "output_type": "execute_result"
    }
   ],
   "source": [
    "pc_range = range(1,41)\n",
    "','.join([str(i) for i in pc_range])"
   ]
  },
  {
   "cell_type": "code",
   "execution_count": null,
   "id": "68b00b58-8b8b-4cb9-b45d-08862801776a",
   "metadata": {},
   "outputs": [],
   "source": []
  }
 ],
 "metadata": {
  "kernelspec": {
   "display_name": "ganoli",
   "language": "python",
   "name": "python3"
  },
  "language_info": {
   "codemirror_mode": {
    "name": "ipython",
    "version": 3
   },
   "file_extension": ".py",
   "mimetype": "text/x-python",
   "name": "python",
   "nbconvert_exporter": "python",
   "pygments_lexer": "ipython3",
   "version": "3.7.9"
  }
 },
 "nbformat": 4,
 "nbformat_minor": 5
}
