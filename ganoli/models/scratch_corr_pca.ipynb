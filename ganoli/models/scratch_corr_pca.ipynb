{
 "cells": [
  {
   "cell_type": "code",
   "execution_count": 35,
   "id": "ff0e9cc0-acee-459e-aeff-7b34522dab43",
   "metadata": {},
   "outputs": [],
   "source": [
    "from os.path import join as opj\n",
    "import numpy as np\n",
    "import matplotlib as mpl\n",
    "mpl.rcParams['figure.dpi'] = 100"
   ]
  },
  {
   "cell_type": "code",
   "execution_count": 36,
   "id": "b124fab2-cfd4-4b39-9157-621eefa61e9a",
   "metadata": {},
   "outputs": [],
   "source": [
    "data_root = '/om2/user/rogerjin/data/Ben'\n",
    "data_path = opj(data_root, 'data_files_new.npz')\n",
    "data = np.load(data_path, allow_pickle=True)\n",
    "rna = data['rna_train']\n",
    "atac = data['atac_train_small']"
   ]
  },
  {
   "cell_type": "code",
   "execution_count": 37,
   "id": "10ff63cf-b414-43c5-bd79-6c29fd82df93",
   "metadata": {},
   "outputs": [],
   "source": [
    "def zero_frac(arr):\n",
    "    zero_count = np.count_nonzero(arr==0)\n",
    "    return zero_count/arr.size"
   ]
  },
  {
   "cell_type": "code",
   "execution_count": 38,
   "id": "8c85f5d4-f663-45f2-9e15-ada7b89c4efe",
   "metadata": {},
   "outputs": [
    {
     "name": "stdout",
     "output_type": "stream",
     "text": [
      "rna zero frac: 0.0\n",
      "atac zero frac: 0.9740022531413609\n"
     ]
    }
   ],
   "source": [
    "print('rna zero frac:', zero_frac(rna))\n",
    "print('atac zero frac:', zero_frac(atac))"
   ]
  },
  {
   "cell_type": "code",
   "execution_count": 39,
   "id": "2506c579-8fd0-4575-9edb-e518ca07d2a9",
   "metadata": {},
   "outputs": [
    {
     "data": {
      "text/plain": [
       "['peak_selector',\n",
       " 'atac_train_small',\n",
       " 'atac_test_small',\n",
       " 'rna_train',\n",
       " 'rna_test',\n",
       " 'rna_good_feats',\n",
       " 'train_idx',\n",
       " 'test_idx',\n",
       " 'cell_type_train',\n",
       " 'cell_type_test']"
      ]
     },
     "execution_count": 39,
     "metadata": {},
     "output_type": "execute_result"
    }
   ],
   "source": [
    "list(data.keys())"
   ]
  },
  {
   "cell_type": "code",
   "execution_count": 40,
   "id": "dc42862c-5507-490f-ba1d-d0c646462eeb",
   "metadata": {},
   "outputs": [
    {
     "data": {
      "text/plain": [
       "True"
      ]
     },
     "execution_count": 40,
     "metadata": {},
     "output_type": "execute_result"
    }
   ],
   "source": [
    "import torch\n",
    "torch.cuda.is_available()"
   ]
  },
  {
   "cell_type": "code",
   "execution_count": 53,
   "id": "8a97b41c-a555-4bf4-906f-b383cbd07278",
   "metadata": {},
   "outputs": [],
   "source": [
    "def self_correlation(matrix, device='cuda:0'):\n",
    "    matrix = torch.Tensor(matrix).to(device)\n",
    "    # return matrix.T @ matrix\n",
    "    return torch.corrcoef(matrix.T).detach().cpu()\n",
    "\n",
    "train_rna = data['rna_train']\n",
    "train_atac = data['atac_train_small']\n",
    "corr_rna = self_correlation(train_rna)\n",
    "corr_atac = self_correlation(train_atac)"
   ]
  },
  {
   "cell_type": "code",
   "execution_count": 54,
   "id": "58337771-efc4-4376-8e95-a36779b90266",
   "metadata": {},
   "outputs": [],
   "source": [
    "import pandas as pd\n",
    "gene_list = pd.read_csv(f'{data_root}/gene_list.csv', header=None)"
   ]
  },
  {
   "cell_type": "code",
   "execution_count": 55,
   "id": "3a84ad2b-6633-40d6-b109-7512cf486f58",
   "metadata": {},
   "outputs": [],
   "source": [
    "chosen_genes = gene_list[data['rna_good_feats']]"
   ]
  },
  {
   "cell_type": "code",
   "execution_count": 56,
   "id": "37f933e2-704b-4e05-be8a-98543adae614",
   "metadata": {},
   "outputs": [],
   "source": [
    "cell_labels_train = data['cell_type_train']"
   ]
  },
  {
   "cell_type": "code",
   "execution_count": 57,
   "id": "a1ee7309-a9a2-472e-b741-4ba5237dafac",
   "metadata": {},
   "outputs": [
    {
     "data": {
      "text/plain": [
       "(6897,)"
      ]
     },
     "execution_count": 57,
     "metadata": {},
     "output_type": "execute_result"
    }
   ],
   "source": [
    "cell_labels_train.shape"
   ]
  },
  {
   "cell_type": "code",
   "execution_count": 58,
   "id": "b8065db4-73a8-405e-97a0-3c7c841e44bc",
   "metadata": {},
   "outputs": [],
   "source": [
    "from GanoliModel import GanoliLogisticGAN\n",
    "model_cls = GanoliLogisticGAN"
   ]
  },
  {
   "cell_type": "code",
   "execution_count": 59,
   "id": "29fc6b6b-2d18-45ea-abff-cc4fc1b97ccd",
   "metadata": {},
   "outputs": [],
   "source": [
    "from sklearn.decomposition import PCA\n",
    "\n",
    "pca_rna = PCA(n_components=20)\n",
    "pca_atac = PCA(n_components=20)\n",
    "pca_rna.fit_transform(corr_rna)\n",
    "pca_atac.fit_transform(corr_atac)\n",
    "\n",
    "rna_embedding = torch.Tensor(pca_rna.components_.T).to('cuda:0')\n",
    "atac_embedding = torch.Tensor(pca_atac.components_.T).to('cuda:0')"
   ]
  },
  {
   "cell_type": "code",
   "execution_count": 60,
   "id": "21c0ab55-e47f-4f13-983f-11c3f30f5bf7",
   "metadata": {},
   "outputs": [
    {
     "ename": "RuntimeError",
     "evalue": "Error(s) in loading state_dict for GanoliLogisticGAN:\n\tsize mismatch for generator_rna2atac.linear.weight: copying a param with shape torch.Size([3808, 20]) from checkpoint, the shape in current model is torch.Size([3808, 7445]).\n\tsize mismatch for generator_atac2rna.model.weight: copying a param with shape torch.Size([7445, 20]) from checkpoint, the shape in current model is torch.Size([7445, 3808]).\n\tsize mismatch for discriminator_rna.model.weight: copying a param with shape torch.Size([1, 20]) from checkpoint, the shape in current model is torch.Size([1, 7445]).\n\tsize mismatch for discriminator_atac.model.weight: copying a param with shape torch.Size([1, 20]) from checkpoint, the shape in current model is torch.Size([1, 3808]).",
     "output_type": "error",
     "traceback": [
      "\u001b[0;31m---------------------------------------------------------------------------\u001b[0m",
      "\u001b[0;31mRuntimeError\u001b[0m                              Traceback (most recent call last)",
      "\u001b[0;32m<ipython-input-60-258f4fed626b>\u001b[0m in \u001b[0;36m<module>\u001b[0;34m\u001b[0m\n\u001b[1;32m      2\u001b[0m \u001b[0mcheckpoint\u001b[0m \u001b[0;34m=\u001b[0m \u001b[0;34m'step=123119-epoch=569-val_oracle_total=1.07.ckpt'\u001b[0m\u001b[0;34m\u001b[0m\u001b[0;34m\u001b[0m\u001b[0m\n\u001b[1;32m      3\u001b[0m \u001b[0mcheckpoint_path\u001b[0m \u001b[0;34m=\u001b[0m \u001b[0;34mf'{checkpoint_dir}/{checkpoint}'\u001b[0m\u001b[0;34m\u001b[0m\u001b[0;34m\u001b[0m\u001b[0m\n\u001b[0;32m----> 4\u001b[0;31m \u001b[0mckpt_model\u001b[0m \u001b[0;34m=\u001b[0m \u001b[0mmodel_cls\u001b[0m\u001b[0;34m.\u001b[0m\u001b[0mload_from_checkpoint\u001b[0m\u001b[0;34m(\u001b[0m\u001b[0mcheckpoint_path\u001b[0m\u001b[0;34m=\u001b[0m\u001b[0mcheckpoint_path\u001b[0m\u001b[0;34m,\u001b[0m \u001b[0mrna_shape\u001b[0m\u001b[0;34m=\u001b[0m\u001b[0;36m7445\u001b[0m\u001b[0;34m,\u001b[0m \u001b[0matac_shape\u001b[0m\u001b[0;34m=\u001b[0m\u001b[0;36m3808\u001b[0m\u001b[0;34m,\u001b[0m \u001b[0mrna_embedding\u001b[0m\u001b[0;34m=\u001b[0m\u001b[0mrna_embedding\u001b[0m\u001b[0;34m,\u001b[0m \u001b[0matac_embedding\u001b[0m\u001b[0;34m=\u001b[0m\u001b[0matac_embedding\u001b[0m\u001b[0;34m)\u001b[0m\u001b[0;34m\u001b[0m\u001b[0;34m\u001b[0m\u001b[0m\n\u001b[0m",
      "\u001b[0;32m/om2/user/rogerjin/conda/ganoli/lib/python3.7/site-packages/pytorch_lightning/core/saving.py\u001b[0m in \u001b[0;36mload_from_checkpoint\u001b[0;34m(cls, checkpoint_path, map_location, hparams_file, strict, **kwargs)\u001b[0m\n\u001b[1;32m    151\u001b[0m         \u001b[0mcheckpoint\u001b[0m\u001b[0;34m[\u001b[0m\u001b[0mcls\u001b[0m\u001b[0;34m.\u001b[0m\u001b[0mCHECKPOINT_HYPER_PARAMS_KEY\u001b[0m\u001b[0;34m]\u001b[0m\u001b[0;34m.\u001b[0m\u001b[0mupdate\u001b[0m\u001b[0;34m(\u001b[0m\u001b[0mkwargs\u001b[0m\u001b[0;34m)\u001b[0m\u001b[0;34m\u001b[0m\u001b[0;34m\u001b[0m\u001b[0m\n\u001b[1;32m    152\u001b[0m \u001b[0;34m\u001b[0m\u001b[0m\n\u001b[0;32m--> 153\u001b[0;31m         \u001b[0mmodel\u001b[0m \u001b[0;34m=\u001b[0m \u001b[0mcls\u001b[0m\u001b[0;34m.\u001b[0m\u001b[0m_load_model_state\u001b[0m\u001b[0;34m(\u001b[0m\u001b[0mcheckpoint\u001b[0m\u001b[0;34m,\u001b[0m \u001b[0mstrict\u001b[0m\u001b[0;34m=\u001b[0m\u001b[0mstrict\u001b[0m\u001b[0;34m,\u001b[0m \u001b[0;34m**\u001b[0m\u001b[0mkwargs\u001b[0m\u001b[0;34m)\u001b[0m\u001b[0;34m\u001b[0m\u001b[0;34m\u001b[0m\u001b[0m\n\u001b[0m\u001b[1;32m    154\u001b[0m         \u001b[0;32mreturn\u001b[0m \u001b[0mmodel\u001b[0m\u001b[0;34m\u001b[0m\u001b[0;34m\u001b[0m\u001b[0m\n\u001b[1;32m    155\u001b[0m \u001b[0;34m\u001b[0m\u001b[0m\n",
      "\u001b[0;32m/om2/user/rogerjin/conda/ganoli/lib/python3.7/site-packages/pytorch_lightning/core/saving.py\u001b[0m in \u001b[0;36m_load_model_state\u001b[0;34m(cls, checkpoint, strict, **cls_kwargs_new)\u001b[0m\n\u001b[1;32m    199\u001b[0m \u001b[0;34m\u001b[0m\u001b[0m\n\u001b[1;32m    200\u001b[0m         \u001b[0;31m# load the state_dict on the model automatically\u001b[0m\u001b[0;34m\u001b[0m\u001b[0;34m\u001b[0m\u001b[0;34m\u001b[0m\u001b[0m\n\u001b[0;32m--> 201\u001b[0;31m         \u001b[0mkeys\u001b[0m \u001b[0;34m=\u001b[0m \u001b[0mmodel\u001b[0m\u001b[0;34m.\u001b[0m\u001b[0mload_state_dict\u001b[0m\u001b[0;34m(\u001b[0m\u001b[0mcheckpoint\u001b[0m\u001b[0;34m[\u001b[0m\u001b[0;34m\"state_dict\"\u001b[0m\u001b[0;34m]\u001b[0m\u001b[0;34m,\u001b[0m \u001b[0mstrict\u001b[0m\u001b[0;34m=\u001b[0m\u001b[0mstrict\u001b[0m\u001b[0;34m)\u001b[0m\u001b[0;34m\u001b[0m\u001b[0;34m\u001b[0m\u001b[0m\n\u001b[0m\u001b[1;32m    202\u001b[0m \u001b[0;34m\u001b[0m\u001b[0m\n\u001b[1;32m    203\u001b[0m         \u001b[0;32mif\u001b[0m \u001b[0;32mnot\u001b[0m \u001b[0mstrict\u001b[0m\u001b[0;34m:\u001b[0m\u001b[0;34m\u001b[0m\u001b[0;34m\u001b[0m\u001b[0m\n",
      "\u001b[0;32m/om2/user/rogerjin/conda/ganoli/lib/python3.7/site-packages/torch/nn/modules/module.py\u001b[0m in \u001b[0;36mload_state_dict\u001b[0;34m(self, state_dict, strict)\u001b[0m\n\u001b[1;32m   1481\u001b[0m         \u001b[0;32mif\u001b[0m \u001b[0mlen\u001b[0m\u001b[0;34m(\u001b[0m\u001b[0merror_msgs\u001b[0m\u001b[0;34m)\u001b[0m \u001b[0;34m>\u001b[0m \u001b[0;36m0\u001b[0m\u001b[0;34m:\u001b[0m\u001b[0;34m\u001b[0m\u001b[0;34m\u001b[0m\u001b[0m\n\u001b[1;32m   1482\u001b[0m             raise RuntimeError('Error(s) in loading state_dict for {}:\\n\\t{}'.format(\n\u001b[0;32m-> 1483\u001b[0;31m                                self.__class__.__name__, \"\\n\\t\".join(error_msgs)))\n\u001b[0m\u001b[1;32m   1484\u001b[0m         \u001b[0;32mreturn\u001b[0m \u001b[0m_IncompatibleKeys\u001b[0m\u001b[0;34m(\u001b[0m\u001b[0mmissing_keys\u001b[0m\u001b[0;34m,\u001b[0m \u001b[0munexpected_keys\u001b[0m\u001b[0;34m)\u001b[0m\u001b[0;34m\u001b[0m\u001b[0;34m\u001b[0m\u001b[0m\n\u001b[1;32m   1485\u001b[0m \u001b[0;34m\u001b[0m\u001b[0m\n",
      "\u001b[0;31mRuntimeError\u001b[0m: Error(s) in loading state_dict for GanoliLogisticGAN:\n\tsize mismatch for generator_rna2atac.linear.weight: copying a param with shape torch.Size([3808, 20]) from checkpoint, the shape in current model is torch.Size([3808, 7445]).\n\tsize mismatch for generator_atac2rna.model.weight: copying a param with shape torch.Size([7445, 20]) from checkpoint, the shape in current model is torch.Size([7445, 3808]).\n\tsize mismatch for discriminator_rna.model.weight: copying a param with shape torch.Size([1, 20]) from checkpoint, the shape in current model is torch.Size([1, 7445]).\n\tsize mismatch for discriminator_atac.model.weight: copying a param with shape torch.Size([1, 20]) from checkpoint, the shape in current model is torch.Size([1, 3808])."
     ]
    }
   ],
   "source": [
    "checkpoint_dir = '/om2/user/rogerjin/GANOLI/ganoli/models/logs/logistic_embed_pca_corr_lr=0.0002_beta1=0.5/default/version_0/checkpoints'\n",
    "checkpoint = 'step=123119-epoch=569-val_oracle_total=1.07.ckpt'\n",
    "checkpoint_path = f'{checkpoint_dir}/{checkpoint}'\n",
    "ckpt_model = model_cls.load_from_checkpoint(checkpoint_path=checkpoint_path, rna_shape=7445, atac_shape=3808, rna_embedding=rna_embedding, atac_embedding=atac_embedding)"
   ]
  },
  {
   "cell_type": "code",
   "execution_count": null,
   "id": "762e98bc-fca5-4b20-a4dd-ed5bf062c9f8",
   "metadata": {},
   "outputs": [],
   "source": [
    "ckpt_model.to('cuda:0')"
   ]
  },
  {
   "cell_type": "code",
   "execution_count": null,
   "id": "16047775-700b-41b9-a4fa-c73770604278",
   "metadata": {},
   "outputs": [],
   "source": [
    "atac_val = data['atac_test_small']"
   ]
  },
  {
   "cell_type": "code",
   "execution_count": null,
   "id": "1c252d11-e52e-4f03-bc2f-46dd5142c6c0",
   "metadata": {},
   "outputs": [],
   "source": [
    "import torch\n",
    "atac_val = torch.Tensor(atac_val).to('cuda:0')"
   ]
  },
  {
   "cell_type": "code",
   "execution_count": null,
   "id": "db6cf114-5529-4bf6-8a0d-120e0dd8b288",
   "metadata": {},
   "outputs": [],
   "source": [
    "atac_val_mini = atac_val[:10, :]"
   ]
  },
  {
   "cell_type": "code",
   "execution_count": null,
   "id": "ab69975a-cded-476b-8bda-c74e7cc5a288",
   "metadata": {},
   "outputs": [],
   "source": [
    "rna_val_pred = ckpt_model(atac_val,data_type='atac')"
   ]
  },
  {
   "cell_type": "code",
   "execution_count": null,
   "id": "7c154dfe-583c-45b0-9491-1e7e8b2bf828",
   "metadata": {},
   "outputs": [],
   "source": [
    "rna_val_pred.shape"
   ]
  },
  {
   "cell_type": "code",
   "execution_count": null,
   "id": "9333acad-2848-43da-aa63-eb5780f03ed9",
   "metadata": {},
   "outputs": [],
   "source": [
    "rna_val_labels = data['cell_type_test']"
   ]
  },
  {
   "cell_type": "code",
   "execution_count": null,
   "id": "66492ad8-1d8f-477a-b568-324b681d15bd",
   "metadata": {},
   "outputs": [],
   "source": [
    "import scanpy as sc\n",
    "import anndata as ad\n",
    "sc.set_figure_params(dpi=300)\n",
    "sc._settings.ScanpyConfig.n_jobs = 4\n",
    "\n",
    "def plot_umap(data, labels=None, label_name=None):\n",
    "    data = ad.AnnData(data)\n",
    "    if labels is not None:\n",
    "        data.obs[label_name] = labels\n",
    "    sc.pp.neighbors(data, n_neighbors=10, n_pcs=40)\n",
    "    sc.tl.leiden(data)\n",
    "    sc.tl.paga(data)\n",
    "    sc.pl.paga(data, plot=False)\n",
    "    sc.tl.umap(data, init_pos='paga')\n",
    "    sc.pl.umap(data, color=label_name) \n",
    "    return data"
   ]
  },
  {
   "cell_type": "code",
   "execution_count": null,
   "id": "4866f7dd-825f-4a65-a98c-cf57fcbeef99",
   "metadata": {},
   "outputs": [],
   "source": [
    "plot_umap(rna_val_pred, rna_val_labels, label_name='Cell Type')"
   ]
  }
 ],
 "metadata": {
  "kernelspec": {
   "display_name": "ganoli",
   "language": "python",
   "name": "python3"
  },
  "language_info": {
   "codemirror_mode": {
    "name": "ipython",
    "version": 3
   },
   "file_extension": ".py",
   "mimetype": "text/x-python",
   "name": "python",
   "nbconvert_exporter": "python",
   "pygments_lexer": "ipython3",
   "version": "3.7.9"
  }
 },
 "nbformat": 4,
 "nbformat_minor": 5
}
