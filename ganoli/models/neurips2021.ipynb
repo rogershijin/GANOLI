{
 "cells": [
  {
   "cell_type": "code",
   "execution_count": 1,
   "id": "861a05ac-585e-4d53-b2ea-09be45bcddb6",
   "metadata": {},
   "outputs": [],
   "source": [
    "import anndata as ad"
   ]
  },
  {
   "cell_type": "code",
   "execution_count": 2,
   "id": "6ba83224-b15a-4b54-b17e-df4d5ce30a32",
   "metadata": {},
   "outputs": [],
   "source": [
    "data_dir = '/om2/user/rogerjin/data/NeurIPS2021/multiome'\n",
    "rna_path = f'{data_dir}/multiome_gex_processed_training.h5ad'\n",
    "atac_path = f'{data_dir}/multiome_atac_processed_training.h5ad'\n",
    "\n",
    "rna = ad.read_h5ad(rna_path)\n",
    "atac = ad.read_h5ad(atac_path)"
   ]
  },
  {
   "cell_type": "code",
   "execution_count": 3,
   "id": "144ad17d-1b18-4cdb-a31f-61aab963e6e8",
   "metadata": {},
   "outputs": [],
   "source": [
    "from sklearn.model_selection import train_test_split\n",
    "\n",
    "rna_train, rna_val = train_test_split(rna, test_size=0.2, random_state=42)\n",
    "atac_train, atac_val = train_test_split(atac, test_size=0.2, random_state=42)"
   ]
  },
  {
   "cell_type": "code",
   "execution_count": 4,
   "id": "a71289ad-bbf1-43e1-bc2b-7d6fc9dd2756",
   "metadata": {},
   "outputs": [],
   "source": [
    "data_dir='/om2/user/rogerjin/data/NeurIPS2021/phase2/predict_modality'\n",
    "rna_dir=f'{data_dir}/openproblems_bmmc_multiome_phase2_rna'\n",
    "atac_dir=f'{data_dir}/openproblems_bmmc_multiome_phase2_mod2'\n",
    "\n",
    "rna1 = ad.read_h5ad(f'{rna_dir}/openproblems_bmmc_multiome_phase2_rna.censor_dataset.output_train_mod1.h5ad')\n",
    "rna2 = ad.read_h5ad(f'{rna_dir}/openproblems_bmmc_multiome_phase2_rna.censor_dataset.output_train_mod2.h5ad')\n",
    "atac1 = ad.read_h5ad(f'{atac_dir}/openproblems_bmmc_multiome_phase2_mod2.censor_dataset.output_train_mod1.h5ad')\n",
    "atac2 = ad.read_h5ad(f'{atac_dir}/openproblems_bmmc_multiome_phase2_mod2.censor_dataset.output_train_mod2.h5ad')"
   ]
  },
  {
   "cell_type": "code",
   "execution_count": 5,
   "id": "e89a35bc-8773-4b51-9f23-08fae6970c2c",
   "metadata": {},
   "outputs": [
    {
     "data": {
      "text/plain": [
       "AnnData object with n_obs × n_vars = 42492 × 13431\n",
       "    obs: 'batch'\n",
       "    var: 'gene_ids', 'feature_types'\n",
       "    uns: 'dataset_id', 'organism'\n",
       "    layers: 'counts'"
      ]
     },
     "execution_count": 5,
     "metadata": {},
     "output_type": "execute_result"
    }
   ],
   "source": [
    "atac2"
   ]
  },
  {
   "cell_type": "code",
   "execution_count": 6,
   "id": "1accd41e-046b-4fbb-bcdf-50d0586ac958",
   "metadata": {},
   "outputs": [],
   "source": [
    "train_rna, val_rna, train_atac, val_atac = train_test_split(rna, atac, test_size=0.2, random_state=42)"
   ]
  },
  {
   "cell_type": "code",
   "execution_count": 14,
   "id": "b5654d1e-7911-4710-a188-6d31db04932f",
   "metadata": {},
   "outputs": [],
   "source": [
    "# import torch\n",
    "\n",
    "# arr = train_rna.X.toarray()\n",
    "# tens = torch.Tensor(arr).to('cuda:0')\n",
    "# corr = torch.corrcoef(tens.T)\n",
    "# corr_cpu = corr.detach().cpu().numpy()\n",
    "# from sklearn.decomposition import PCA\n",
    "# pca = PCA(n_components=20)\n",
    "# pca.fit(corr_cpu)"
   ]
  },
  {
   "cell_type": "code",
   "execution_count": null,
   "id": "127bcebf-6200-4d58-8b77-8373c85de360",
   "metadata": {},
   "outputs": [],
   "source": []
  }
 ],
 "metadata": {
  "kernelspec": {
   "display_name": "ganoli",
   "language": "python",
   "name": "python3"
  },
  "language_info": {
   "codemirror_mode": {
    "name": "ipython",
    "version": 3
   },
   "file_extension": ".py",
   "mimetype": "text/x-python",
   "name": "python",
   "nbconvert_exporter": "python",
   "pygments_lexer": "ipython3",
   "version": "3.7.9"
  }
 },
 "nbformat": 4,
 "nbformat_minor": 5
}
