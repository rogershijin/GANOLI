{
 "cells": [
  {
   "cell_type": "code",
   "execution_count": 1,
   "metadata": {},
   "outputs": [],
   "source": [
    "import torch"
   ]
  },
  {
   "cell_type": "code",
   "execution_count": null,
   "metadata": {},
   "outputs": [],
   "source": []
  },
  {
   "cell_type": "code",
   "execution_count": 17,
   "metadata": {},
   "outputs": [
    {
     "data": {
      "text/plain": [
       "tensor([[0., 1., 1.],\n",
       "        [2., 3., 3.],\n",
       "        [4., 5., 5.],\n",
       "        [6., 7., 7.],\n",
       "        [8., 9., 9.],\n",
       "        [0., 0., 0.]])"
      ]
     },
     "metadata": {},
     "output_type": "display_data"
    },
    {
     "data": {
      "text/plain": [
       "Embedding(6, 3, padding_idx=5)"
      ]
     },
     "metadata": {},
     "output_type": "display_data"
    },
    {
     "data": {
      "text/plain": [
       "Parameter containing:\n",
       "tensor([[0., 1., 1.],\n",
       "        [2., 3., 3.],\n",
       "        [4., 5., 5.],\n",
       "        [6., 7., 7.],\n",
       "        [8., 9., 9.],\n",
       "        [0., 0., 0.]], requires_grad=True)"
      ]
     },
     "metadata": {},
     "output_type": "display_data"
    },
    {
     "data": {
      "text/plain": [
       "tensor([[  0.,   1.,   0.,  10., 100.],\n",
       "        [  1.,   0.,   0.,  10.,   0.]])"
      ]
     },
     "metadata": {},
     "output_type": "display_data"
    }
   ],
   "source": [
    "A = torch.Tensor([\n",
    "    [0, 1, 0, 10, 100],\n",
    "    [1, 0, 0, 10, 0]\n",
    "])\n",
    "\n",
    "embeddings = torch.Tensor([\n",
    "    [0, 1, 1,],\n",
    "    [2, 3, 3],\n",
    "    [4, 5, 5],\n",
    "    [6, 7, 7],\n",
    "    [8 ,9, 9],\n",
    "])\n",
    "\n",
    "def add_pad_embedding(embeddings):\n",
    "    return torch.cat([embeddings, torch.zeros(1, embeddings.shape[1])])\n",
    "\n",
    "embeddings = add_pad_embedding(embeddings)\n",
    "embeddings = torch.nn.Embedding.from_pretrained(embeddings, freeze=False, padding_idx=-1)\n",
    "display(embeddings)\n",
    "display(embeddings.weight)\n",
    "display(A)"
   ]
  },
  {
   "cell_type": "code",
   "execution_count": 33,
   "metadata": {},
   "outputs": [],
   "source": [
    "'''\n",
    "1. turn nonzeros into indices\n",
    "2. use indices as in normal transformer to get embedding,\n",
    "pretty much like token indices - should I include padding tokens?\n",
    "3. but also somehow use these indices to extract the output\n",
    "4. it may be that I can also accomplish this via masking\n",
    "'''\n",
    "def pad(vec, seq_len, pad_token=-1):\n",
    "    return torch.cat([\n",
    "        vec, torch.Tensor([pad_token]).expand(seq_len - vec.size()[0])\n",
    "    ])\n",
    "\n",
    "def select_nonzero(A, seq_len=10, pad_token=-1):\n",
    "    seqs = []\n",
    "    for row in A:\n",
    "        nonzeros = pad(row.nonzero().T[0], seq_len, pad_token)\n",
    "        seqs.append(nonzeros)\n",
    "    return torch.stack(seqs)"
   ]
  },
  {
   "cell_type": "code",
   "execution_count": 34,
   "metadata": {},
   "outputs": [
    {
     "data": {
      "text/plain": [
       "tensor([[  0.,   1.,   0.,  10., 100.],\n",
       "        [  1.,   0.,   0.,  10.,   0.]])"
      ]
     },
     "execution_count": 34,
     "metadata": {},
     "output_type": "execute_result"
    }
   ],
   "source": [
    "A"
   ]
  },
  {
   "cell_type": "code",
   "execution_count": 39,
   "metadata": {},
   "outputs": [
    {
     "data": {
      "text/plain": [
       "tensor([[1., 3., 4., 5., 5., 5., 5., 5., 5., 5.],\n",
       "        [0., 3., 5., 5., 5., 5., 5., 5., 5., 5.]])"
      ]
     },
     "execution_count": 39,
     "metadata": {},
     "output_type": "execute_result"
    }
   ],
   "source": [
    "nonzeros = select_nonzero(A, pad_token=embeddings.weight.size()[0]-1)\n",
    "nonzeros"
   ]
  },
  {
   "cell_type": "code",
   "execution_count": 65,
   "metadata": {},
   "outputs": [
    {
     "data": {
      "text/plain": [
       "torch.Size([2, 10])"
      ]
     },
     "execution_count": 65,
     "metadata": {},
     "output_type": "execute_result"
    }
   ],
   "source": []
  },
  {
   "cell_type": "code",
   "execution_count": 44,
   "metadata": {},
   "outputs": [
    {
     "data": {
      "text/plain": [
       "tensor([[[2., 3., 3.],\n",
       "         [6., 7., 7.],\n",
       "         [8., 9., 9.],\n",
       "         [0., 0., 0.],\n",
       "         [0., 0., 0.],\n",
       "         [0., 0., 0.],\n",
       "         [0., 0., 0.],\n",
       "         [0., 0., 0.],\n",
       "         [0., 0., 0.],\n",
       "         [0., 0., 0.]],\n",
       "\n",
       "        [[0., 1., 1.],\n",
       "         [6., 7., 7.],\n",
       "         [0., 0., 0.],\n",
       "         [0., 0., 0.],\n",
       "         [0., 0., 0.],\n",
       "         [0., 0., 0.],\n",
       "         [0., 0., 0.],\n",
       "         [0., 0., 0.],\n",
       "         [0., 0., 0.],\n",
       "         [0., 0., 0.]]], grad_fn=<EmbeddingBackward>)"
      ]
     },
     "execution_count": 44,
     "metadata": {},
     "output_type": "execute_result"
    }
   ],
   "source": [
    "squished_embeddings = embeddings(nonzeros.long())\n",
    "squished_embeddings"
   ]
  },
  {
   "cell_type": "code",
   "execution_count": 49,
   "metadata": {},
   "outputs": [
    {
     "data": {
      "text/plain": [
       "tensor([[[2., 3., 3.],\n",
       "         [6., 7., 7.],\n",
       "         [8., 9., 9.],\n",
       "         [0., 0., 0.],\n",
       "         [0., 0., 0.],\n",
       "         [0., 0., 0.],\n",
       "         [0., 0., 0.],\n",
       "         [0., 0., 0.],\n",
       "         [0., 0., 0.],\n",
       "         [0., 0., 0.]],\n",
       "\n",
       "        [[0., 1., 1.],\n",
       "         [6., 7., 7.],\n",
       "         [0., 0., 0.],\n",
       "         [0., 0., 0.],\n",
       "         [0., 0., 0.],\n",
       "         [0., 0., 0.],\n",
       "         [0., 0., 0.],\n",
       "         [0., 0., 0.],\n",
       "         [0., 0., 0.],\n",
       "         [0., 0., 0.]]], grad_fn=<EmbeddingBackward>)"
      ]
     },
     "metadata": {},
     "output_type": "display_data"
    },
    {
     "data": {
      "text/plain": [
       "tensor([[1., 3., 4., 5., 5., 5., 5., 5., 5., 5.],\n",
       "        [0., 3., 5., 5., 5., 5., 5., 5., 5., 5.]])"
      ]
     },
     "metadata": {},
     "output_type": "display_data"
    }
   ],
   "source": [
    "display(squished_embeddings)\n",
    "display(nonzeros)"
   ]
  },
  {
   "cell_type": "code",
   "execution_count": 62,
   "metadata": {},
   "outputs": [
    {
     "data": {
      "text/plain": [
       "tensor([[[ 2.,  3.,  3.],\n",
       "         [18., 21., 21.],\n",
       "         [32., 36., 36.],\n",
       "         [ 0.,  0.,  0.],\n",
       "         [ 0.,  0.,  0.],\n",
       "         [ 0.,  0.,  0.],\n",
       "         [ 0.,  0.,  0.],\n",
       "         [ 0.,  0.,  0.],\n",
       "         [ 0.,  0.,  0.],\n",
       "         [ 0.,  0.,  0.]],\n",
       "\n",
       "        [[ 0.,  0.,  0.],\n",
       "         [18., 21., 21.],\n",
       "         [ 0.,  0.,  0.],\n",
       "         [ 0.,  0.,  0.],\n",
       "         [ 0.,  0.,  0.],\n",
       "         [ 0.,  0.,  0.],\n",
       "         [ 0.,  0.,  0.],\n",
       "         [ 0.,  0.,  0.],\n",
       "         [ 0.,  0.,  0.],\n",
       "         [ 0.,  0.,  0.]]], grad_fn=<MulBackward0>)"
      ]
     },
     "execution_count": 62,
     "metadata": {},
     "output_type": "execute_result"
    }
   ],
   "source": [
    "squished_embeddings * nonzeros.unsqueeze(-1)"
   ]
  },
  {
   "cell_type": "code",
   "execution_count": 58,
   "metadata": {},
   "outputs": [
    {
     "data": {
      "text/plain": [
       "torch.Size([2, 10, 3])"
      ]
     },
     "execution_count": 58,
     "metadata": {},
     "output_type": "execute_result"
    }
   ],
   "source": [
    "squished_embeddings.shape"
   ]
  }
 ],
 "metadata": {
  "kernelspec": {
   "display_name": "antigan",
   "language": "python",
   "name": "python3"
  },
  "language_info": {
   "codemirror_mode": {
    "name": "ipython",
    "version": 3
   },
   "file_extension": ".py",
   "mimetype": "text/x-python",
   "name": "python",
   "nbconvert_exporter": "python",
   "pygments_lexer": "ipython3",
   "version": "3.8.6"
  }
 },
 "nbformat": 4,
 "nbformat_minor": 4
}
