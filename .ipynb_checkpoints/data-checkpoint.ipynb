{
 "cells": [
  {
   "cell_type": "code",
   "execution_count": 4,
   "id": "250e7264-e732-490a-b4f1-5f49e77c55c9",
   "metadata": {},
   "outputs": [],
   "source": [
    "from os.path import join as opj\n",
    "\n",
    "data_root = '/om2/user/rogerjin/data'\n",
    "data_path = opj(data_root, 'data_files_new.npz')"
   ]
  },
  {
   "cell_type": "code",
   "execution_count": 11,
   "id": "f9dc6752-2a94-42f4-bb34-3799a0f5fc65",
   "metadata": {},
   "outputs": [
    {
     "data": {
      "text/plain": [
       "['peak_selector',\n",
       " 'atac_train_small',\n",
       " 'atac_test_small',\n",
       " 'rna_train',\n",
       " 'rna_test',\n",
       " 'rna_good_feats',\n",
       " 'train_idx',\n",
       " 'test_idx',\n",
       " 'cell_type_train',\n",
       " 'cell_type_test']"
      ]
     },
     "execution_count": 11,
     "metadata": {},
     "output_type": "execute_result"
    }
   ],
   "source": [
    "import numpy as np\n",
    "\n",
    "data = np.load(data_path)\n",
    "data_keys = list(data.keys())\n",
    "data_keys"
   ]
  },
  {
   "cell_type": "code",
   "execution_count": 14,
   "id": "a1a7dd47-5b4e-4249-8017-4e649cdfb679",
   "metadata": {},
   "outputs": [
    {
     "data": {
      "text/plain": [
       "(6897, 7445)"
      ]
     },
     "execution_count": 14,
     "metadata": {},
     "output_type": "execute_result"
    }
   ],
   "source": [
    "data['rna_train'].shape"
   ]
  },
  {
   "cell_type": "code",
   "execution_count": 15,
   "id": "4911d1a9-3752-4b19-bd20-73ce5242c1de",
   "metadata": {},
   "outputs": [
    {
     "data": {
      "text/plain": [
       "(2300, 7445)"
      ]
     },
     "execution_count": 15,
     "metadata": {},
     "output_type": "execute_result"
    }
   ],
   "source": [
    "data['rna_test'].shape"
   ]
  },
  {
   "cell_type": "code",
   "execution_count": 16,
   "id": "1722b343-1702-4169-bb50-93d87283113c",
   "metadata": {},
   "outputs": [
    {
     "data": {
      "text/plain": [
       "(6897, 3808)"
      ]
     },
     "execution_count": 16,
     "metadata": {},
     "output_type": "execute_result"
    }
   ],
   "source": [
    "data['atac_train_small'].shape"
   ]
  },
  {
   "cell_type": "code",
   "execution_count": 22,
   "id": "86f2c291-5f22-4e76-8fa1-00a465fd2a05",
   "metadata": {},
   "outputs": [],
   "source": [
    "rna_train = data['rna_train']"
   ]
  },
  {
   "cell_type": "code",
   "execution_count": 38,
   "id": "acd4e5f4-b359-4b2a-9202-eee740db08f4",
   "metadata": {},
   "outputs": [
    {
     "data": {
      "text/plain": [
       "array([-0.16375966, -0.16154247, -0.29548194, ..., -0.19634512,\n",
       "       -0.4072624 , -0.15920115])"
      ]
     },
     "execution_count": 38,
     "metadata": {},
     "output_type": "execute_result"
    }
   ],
   "source": [
    "rna_train[0]"
   ]
  },
  {
   "cell_type": "code",
   "execution_count": null,
   "id": "b17c29f1-b1f9-4908-bca0-5133beb53d68",
   "metadata": {},
   "outputs": [],
   "source": [
    "import sys\n",
    "sys.path.append('/om2/user/rogerjin/GANOLI/ganoli')"
   ]
  },
  {
   "cell_type": "code",
   "execution_count": null,
   "id": "25521dc5-08fb-40f4-afce-994c0037611f",
   "metadata": {},
   "outputs": [],
   "source": []
  }
 ],
 "metadata": {
  "kernelspec": {
   "display_name": "ganoli",
   "language": "python",
   "name": "python3"
  },
  "language_info": {
   "codemirror_mode": {
    "name": "ipython",
    "version": 3
   },
   "file_extension": ".py",
   "mimetype": "text/x-python",
   "name": "python",
   "nbconvert_exporter": "python",
   "pygments_lexer": "ipython3",
   "version": "3.7.9"
  }
 },
 "nbformat": 4,
 "nbformat_minor": 5
}
