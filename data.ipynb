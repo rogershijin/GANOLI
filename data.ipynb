{
 "cells": [
  {
   "cell_type": "code",
   "execution_count": 1,
   "id": "bd477492-67c8-4ca8-a771-1c1fa24099e0",
   "metadata": {},
   "outputs": [],
   "source": [
    "%load_ext autoreload\n",
    "%autoreload 2"
   ]
  },
  {
   "cell_type": "code",
   "execution_count": 2,
   "id": "250e7264-e732-490a-b4f1-5f49e77c55c9",
   "metadata": {},
   "outputs": [],
   "source": [
    "from os.path import join as opj\n",
    "\n",
    "data_root = '/om2/user/rogerjin/data'\n",
    "data_path = opj(data_root, 'data_files_new.npz')"
   ]
  },
  {
   "cell_type": "code",
   "execution_count": 3,
   "id": "f9dc6752-2a94-42f4-bb34-3799a0f5fc65",
   "metadata": {},
   "outputs": [
    {
     "data": {
      "text/plain": [
       "['peak_selector',\n",
       " 'atac_train_small',\n",
       " 'atac_test_small',\n",
       " 'rna_train',\n",
       " 'rna_test',\n",
       " 'rna_good_feats',\n",
       " 'train_idx',\n",
       " 'test_idx',\n",
       " 'cell_type_train',\n",
       " 'cell_type_test']"
      ]
     },
     "execution_count": 3,
     "metadata": {},
     "output_type": "execute_result"
    }
   ],
   "source": [
    "import numpy as np\n",
    "\n",
    "data = np.load(data_path)\n",
    "data_keys = list(data.keys())\n",
    "data_keys"
   ]
  },
  {
   "cell_type": "code",
   "execution_count": 4,
   "id": "a1a7dd47-5b4e-4249-8017-4e649cdfb679",
   "metadata": {},
   "outputs": [
    {
     "data": {
      "text/plain": [
       "(6897, 7445)"
      ]
     },
     "execution_count": 4,
     "metadata": {},
     "output_type": "execute_result"
    }
   ],
   "source": [
    "data['rna_train'].shape"
   ]
  },
  {
   "cell_type": "code",
   "execution_count": 5,
   "id": "4911d1a9-3752-4b19-bd20-73ce5242c1de",
   "metadata": {},
   "outputs": [
    {
     "data": {
      "text/plain": [
       "(2300, 7445)"
      ]
     },
     "execution_count": 5,
     "metadata": {},
     "output_type": "execute_result"
    }
   ],
   "source": [
    "data['rna_test'].shape"
   ]
  },
  {
   "cell_type": "code",
   "execution_count": 6,
   "id": "1722b343-1702-4169-bb50-93d87283113c",
   "metadata": {},
   "outputs": [
    {
     "data": {
      "text/plain": [
       "(6897, 3808)"
      ]
     },
     "execution_count": 6,
     "metadata": {},
     "output_type": "execute_result"
    }
   ],
   "source": [
    "data['atac_train_small'].shape"
   ]
  },
  {
   "cell_type": "code",
   "execution_count": 7,
   "id": "86f2c291-5f22-4e76-8fa1-00a465fd2a05",
   "metadata": {},
   "outputs": [],
   "source": [
    "rna_train = data['rna_train']"
   ]
  },
  {
   "cell_type": "code",
   "execution_count": 8,
   "id": "acd4e5f4-b359-4b2a-9202-eee740db08f4",
   "metadata": {},
   "outputs": [
    {
     "data": {
      "text/plain": [
       "array([-0.16375966, -0.16154247, -0.29548194, ..., -0.19634512,\n",
       "       -0.4072624 , -0.15920115])"
      ]
     },
     "execution_count": 8,
     "metadata": {},
     "output_type": "execute_result"
    }
   ],
   "source": [
    "rna_train[0]"
   ]
  },
  {
   "cell_type": "code",
   "execution_count": 9,
   "id": "3432db34-4887-4d1e-b365-34562aa5d614",
   "metadata": {},
   "outputs": [
    {
     "name": "stdout",
     "output_type": "stream",
     "text": [
      "46208208\n"
     ]
    },
    {
     "data": {
      "text/plain": [
       "5139957"
      ]
     },
     "execution_count": 9,
     "metadata": {},
     "output_type": "execute_result"
    }
   ],
   "source": [
    "import numpy as np\n",
    "print(np.sum(rna_train < 0))\n",
    "np.sum(rna_train > 0)"
   ]
  },
  {
   "cell_type": "code",
   "execution_count": 10,
   "id": "b17c29f1-b1f9-4908-bca0-5133beb53d68",
   "metadata": {},
   "outputs": [],
   "source": [
    "import sys\n",
    "\n",
    "sys.path.append('/om2/user/rogerjin/GANOLI/ganoli')"
   ]
  },
  {
   "cell_type": "code",
   "execution_count": 11,
   "id": "25521dc5-08fb-40f4-afce-994c0037611f",
   "metadata": {},
   "outputs": [
    {
     "data": {
      "text/plain": [
       "False"
      ]
     },
     "execution_count": 11,
     "metadata": {},
     "output_type": "execute_result"
    }
   ],
   "source": [
    "import torch\n",
    "torch.cuda.is_available()"
   ]
  },
  {
   "cell_type": "code",
   "execution_count": 12,
   "id": "84014d85-4a4d-4e11-bd2b-b53d82213a5f",
   "metadata": {},
   "outputs": [],
   "source": [
    "from GanoliDataset import GanoliDataset\n",
    "\n",
    "dataset = GanoliDataset(rna_train)"
   ]
  },
  {
   "cell_type": "code",
   "execution_count": 13,
   "id": "b1543578-2912-4292-8108-aa10f69870b8",
   "metadata": {},
   "outputs": [],
   "source": [
    "from torch.utils.data import DataLoader\n",
    "\n",
    "loader = DataLoader(dataset, batch_size=5)"
   ]
  },
  {
   "cell_type": "code",
   "execution_count": 14,
   "id": "37e07cb3-dfea-4d70-ae96-4b6e70279e8b",
   "metadata": {},
   "outputs": [
    {
     "name": "stdout",
     "output_type": "stream",
     "text": [
      "tensor([[-0.1638, -0.1615, -0.2955,  ..., -0.1963, -0.4073, -0.1592],\n",
      "        [-0.1638, -0.1615, -0.2955,  ..., -0.1963, -0.4073, -0.1592],\n",
      "        [-0.1638, -0.1615,  1.9634,  ..., -0.1963, -0.4073, -0.1592],\n",
      "        [-0.1638, -0.1615, -0.2955,  ..., -0.1963,  2.0423, -0.1592],\n",
      "        [-0.1638, -0.1615, -0.2955,  ..., -0.1963, -0.4073, -0.1592]],\n",
      "       dtype=torch.float64)\n"
     ]
    }
   ],
   "source": [
    "for x in loader:\n",
    "    print(x)\n",
    "    break"
   ]
  },
  {
   "cell_type": "code",
   "execution_count": 26,
   "id": "d6cdbdbc-de95-42fb-9d71-649b7f826e2b",
   "metadata": {},
   "outputs": [
    {
     "data": {
      "text/plain": [
       "Ridge(alpha=1000)"
      ]
     },
     "execution_count": 26,
     "metadata": {},
     "output_type": "execute_result"
    }
   ],
   "source": [
    "from sklearn.multioutput import MultiOutputRegressor\n",
    "from sklearn.linear_model import Ridge\n",
    "\n",
    "model = Ridge(alpha=10**3)\n",
    "model.fit(data['rna_train'], data['atac_train_small'])"
   ]
  },
  {
   "cell_type": "code",
   "execution_count": 27,
   "id": "efa8ae69-3421-42ba-acfb-28256fe3ff8b",
   "metadata": {},
   "outputs": [
    {
     "data": {
      "text/plain": [
       "-1.015301847493901"
      ]
     },
     "execution_count": 27,
     "metadata": {},
     "output_type": "execute_result"
    }
   ],
   "source": [
    "model.score(data['rna_test'], data['atac_test_small'])"
   ]
  },
  {
   "cell_type": "code",
   "execution_count": null,
   "id": "916a3c3e-4983-4006-9c80-f1f6f420b47b",
   "metadata": {},
   "outputs": [],
   "source": []
  }
 ],
 "metadata": {
  "kernelspec": {
   "display_name": "ganoli",
   "language": "python",
   "name": "python3"
  },
  "language_info": {
   "codemirror_mode": {
    "name": "ipython",
    "version": 3
   },
   "file_extension": ".py",
   "mimetype": "text/x-python",
   "name": "python",
   "nbconvert_exporter": "python",
   "pygments_lexer": "ipython3",
   "version": "3.7.9"
  }
 },
 "nbformat": 4,
 "nbformat_minor": 5
}
