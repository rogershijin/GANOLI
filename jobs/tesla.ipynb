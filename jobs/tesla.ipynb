{
 "cells": [
  {
   "cell_type": "code",
   "execution_count": 268,
   "id": "27ea7531-28ae-48df-9e90-f5d91c7a7e2d",
   "metadata": {},
   "outputs": [],
   "source": [
    "import numpy as np\n",
    "\n",
    "poly1 = [\n",
    "    (0, -1),\n",
    "    (-1, 0),\n",
    "    (-1, 0),\n",
    "    (0, 1),\n",
    "]\n",
    "poly2 = [\n",
    "    (0.7071067811865476, 0.7071067811865476),\n",
    "    (-0.7071067811865476, 0.7071067811865476),\n",
    "    (-0.7071067811865476, -0.7071067811865476),\n",
    "    (0.7071067811865476, -0.7071067811865476),\n",
    "    (0.7071067811865476, -0.7071067811865476),\n",
    "]\n",
    "\n",
    "poly1 = list(set(poly1))\n",
    "poly2 = list(set(poly2))\n",
    "\n",
    "vertices = np.array(poly1)"
   ]
  },
  {
   "cell_type": "code",
   "execution_count": 269,
   "id": "bb53df67-4def-4940-a330-914e0cfe043a",
   "metadata": {},
   "outputs": [
    {
     "data": {
      "text/plain": [
       "1.0"
      ]
     },
     "execution_count": 269,
     "metadata": {},
     "output_type": "execute_result"
    }
   ],
   "source": [
    "vertices_roll = np.roll(vertices, (1,1), axis=(0,1))\n",
    "\n",
    "prods = (vertices * vertices_roll).sum(axis=0)\n",
    "area = 0.5 * abs(prods[0] - prods[1])\n",
    "area"
   ]
  },
  {
   "cell_type": "code",
   "execution_count": 270,
   "id": "c6fc1b1d-ef18-4eec-9504-9a89d258dbef",
   "metadata": {},
   "outputs": [],
   "source": [
    "def area(vertices):\n",
    "    # based on shoelace theorem: https://artofproblemsolving.com/wiki/index.php/Shoelace_Theorem\n",
    "    vertices = np.array(vertices)\n",
    "    vertices_rolled = np.roll(vertices, (-1,1), axis=(0,1))\n",
    "    sum_of_prods = (vertices * vertices_rolled).sum(axis=0)\n",
    "    return abs(sum_of_prods[0] - sum_of_prods[1])/2"
   ]
  },
  {
   "cell_type": "code",
   "execution_count": 271,
   "id": "11159899-139d-4598-ba4d-ae46158d19ec",
   "metadata": {},
   "outputs": [
    {
     "data": {
      "text/plain": [
       "30.0"
      ]
     },
     "execution_count": 271,
     "metadata": {},
     "output_type": "execute_result"
    }
   ],
   "source": [
    "poly_test  = [\n",
    "    (3,4),\n",
    "    (5,11),\n",
    "    (12,8),\n",
    "    (9,5),\n",
    "    (5,6)\n",
    "]\n",
    "area(poly_test)"
   ]
  },
  {
   "cell_type": "code",
   "execution_count": 272,
   "id": "3ed49929-1961-4107-8864-71fc14b4c654",
   "metadata": {},
   "outputs": [
    {
     "data": {
      "text/plain": [
       "207"
      ]
     },
     "execution_count": 272,
     "metadata": {},
     "output_type": "execute_result"
    }
   ],
   "source": [
    "(3*11 + 5*8 + 12*5 + 9*6 + 5*4)"
   ]
  },
  {
   "cell_type": "code",
   "execution_count": 273,
   "id": "b15ad7ca-6770-4ce2-82d3-865648e06039",
   "metadata": {},
   "outputs": [
    {
     "data": {
      "text/plain": [
       "-52"
      ]
     },
     "execution_count": 273,
     "metadata": {},
     "output_type": "execute_result"
    }
   ],
   "source": [
    "207-259"
   ]
  },
  {
   "cell_type": "code",
   "execution_count": 274,
   "id": "a80c48d0-6726-4e74-92b0-787d2c407091",
   "metadata": {},
   "outputs": [],
   "source": [
    "import cmath\n",
    "\n",
    "def angle(vertex):\n",
    "    a, b = vertex\n",
    "    phase = cmath.phase(complex(a,b))\n",
    "    return phase + 2*cmath.pi if phase < 0 else phase\n",
    "\n",
    "def angles(vertices):\n",
    "    return {v: angle(v) for v in vertices} # change to for loop if oom"
   ]
  },
  {
   "cell_type": "code",
   "execution_count": 275,
   "id": "6792d200-51de-4327-a049-dedb4c3ed3be",
   "metadata": {},
   "outputs": [
    {
     "data": {
      "text/plain": [
       "{(0.7071067811865476, 0.7071067811865476): 0.7853981633974483,\n",
       " (-0.7071067811865476, 0.7071067811865476): 2.356194490192345,\n",
       " (-0.7071067811865476, -0.7071067811865476): 3.9269908169872414,\n",
       " (0.7071067811865476, -0.7071067811865476): 5.497787143782138}"
      ]
     },
     "execution_count": 275,
     "metadata": {},
     "output_type": "execute_result"
    }
   ],
   "source": [
    "poly2 = [\n",
    "    (0.7071067811865476, 0.7071067811865476),\n",
    "    (-0.7071067811865476, 0.7071067811865476),\n",
    "    (-0.7071067811865476, -0.7071067811865476),\n",
    "    (0.7071067811865476, -0.7071067811865476),\n",
    "    (0.7071067811865476, -0.7071067811865476),\n",
    "]\n",
    "angles(poly2)"
   ]
  },
  {
   "cell_type": "code",
   "execution_count": 276,
   "id": "b59cce29-2893-4ce0-ae58-9f20811f68ad",
   "metadata": {},
   "outputs": [],
   "source": [
    "def merge(l1, l2, key=lambda x:x):\n",
    "    # l1, l2 lists such that `sorted(l1, key=key) == l1`. (resp. l2)\n",
    "    p1 = 0\n",
    "    p2 = 0\n",
    "    out = []\n",
    "    while p1 < len(l1) and p2 < len(l2):\n",
    "        if key(l1[p1]) < key(l2[p2]):\n",
    "            out.append(l1[p1])\n",
    "            p1 += 1\n",
    "        else:\n",
    "            out.append(l2[p2])\n",
    "            p2 += 1\n",
    "    out.extend(l1[p1:]) # at least one extension will do nothing\n",
    "    out.extend(l2[p2:])\n",
    "    return out"
   ]
  },
  {
   "cell_type": "code",
   "execution_count": 277,
   "id": "876a9264-02f4-4f27-a9e4-d45366b1e931",
   "metadata": {},
   "outputs": [],
   "source": [
    "a = [1,4,6,8,13]\n",
    "b = [2,4,5,6,17]\n",
    "\n",
    "merged = merge(poly1, poly2, key=angle)"
   ]
  },
  {
   "cell_type": "code",
   "execution_count": 278,
   "id": "45d4a313-1dfc-4296-8af9-52d921e999c3",
   "metadata": {},
   "outputs": [],
   "source": [
    "def vertex_sources(poly0, poly1):\n",
    "    sources = {}\n",
    "    for v in poly0:\n",
    "        sources[v] = set([1])\n",
    "    for v in poly1:\n",
    "        if v in sources:\n",
    "            sources[v].add(2)\n",
    "        else:\n",
    "            sources[v] = set([2])\n",
    "    return sources\n",
    "\n",
    "sources = vertex_sources(poly1, poly2)"
   ]
  },
  {
   "cell_type": "code",
   "execution_count": 279,
   "id": "54dfd97a-f69a-4871-a517-f75ecdbe25fd",
   "metadata": {},
   "outputs": [
    {
     "data": {
      "text/plain": [
       "{(0, 1): {1},\n",
       " (0, -1): {1},\n",
       " (-1, 0): {1},\n",
       " (0.7071067811865476, 0.7071067811865476): {2},\n",
       " (-0.7071067811865476, 0.7071067811865476): {2},\n",
       " (-0.7071067811865476, -0.7071067811865476): {2},\n",
       " (0.7071067811865476, -0.7071067811865476): {2}}"
      ]
     },
     "execution_count": 279,
     "metadata": {},
     "output_type": "execute_result"
    }
   ],
   "source": [
    "sources"
   ]
  },
  {
   "cell_type": "code",
   "execution_count": 280,
   "id": "a46bc799-e88e-447d-80e3-552f2c4154fa",
   "metadata": {},
   "outputs": [],
   "source": [
    "def reverse_index(vertices):\n",
    "    return {v:i for i,v in enumerate(vertices)}\n",
    "\n",
    "def slope(L):\n",
    "    L = np.array(L)\n",
    "    vec = L[1] - L[0]\n",
    "    if vec[0] != 0:\n",
    "        return vec[1]/vec[0]\n",
    "    return vec[1] * math.inf\n",
    "\n",
    "def intersection(L1, L2):\n",
    "    if slope(L1) == slope(L2):\n",
    "        raise Error('lines are parallel')\n",
    "        \n",
    "    x1,y1 = L1[0]\n",
    "    x2, y2 = L1[1]\n",
    "    x3, y3 = L2[0]\n",
    "    x4, y4 = L2[1]\n",
    "\n",
    "    m1 = slope(L1)\n",
    "    m2 = slope(L2)\n",
    "    b1 = -m1*x1 + y1\n",
    "    b2 = -m2*x3 + y3\n",
    "    \n",
    "    if x1 == x2:\n",
    "        return (x1, m2*x1 + b2)\n",
    "    if x3 == x4:\n",
    "        return (x3, m1*x3 + b1)\n",
    "    \n",
    "    inter_x = (b2 - b1)/(m1 - m2)\n",
    "    inter_y = m1*inter_x + b1\n",
    "    \n",
    "    return inter_x, inter_y\n",
    "\n",
    "L1 = poly1[0], poly1[1]\n",
    "L2 = poly2[0], poly2[1]"
   ]
  },
  {
   "cell_type": "code",
   "execution_count": 281,
   "id": "dd283ad3-27ce-44e1-93d7-d62c779ae5e6",
   "metadata": {},
   "outputs": [
    {
     "data": {
      "text/plain": [
       "(0.5, 0.5)"
      ]
     },
     "execution_count": 281,
     "metadata": {},
     "output_type": "execute_result"
    }
   ],
   "source": [
    "intersection([(0,0),(1,1)], [(0,1), (1,0)])"
   ]
  },
  {
   "cell_type": "code",
   "execution_count": 282,
   "id": "fa3b1064-a0b2-4b19-a8a9-7b5770c2d679",
   "metadata": {},
   "outputs": [
    {
     "name": "stderr",
     "output_type": "stream",
     "text": [
      "/om2/user/rogerjin/conda/ganoli/lib/python3.7/site-packages/ipykernel_launcher.py:23: RuntimeWarning: invalid value encountered in double_scalars\n",
      "/om2/user/rogerjin/conda/ganoli/lib/python3.7/site-packages/ipykernel_launcher.py:22: RuntimeWarning: invalid value encountered in double_scalars\n",
      "/om2/user/rogerjin/conda/ganoli/lib/python3.7/site-packages/ipykernel_launcher.py:9: RuntimeWarning: invalid value encountered in double_scalars\n",
      "  if __name__ == '__main__':\n"
     ]
    },
    {
     "data": {
      "text/plain": [
       "0.6464466094067263"
      ]
     },
     "execution_count": 282,
     "metadata": {},
     "output_type": "execute_result"
    }
   ],
   "source": [
    "intersections = []\n",
    "\n",
    "def switch(poly_curr, poly_prev):\n",
    "    if len(poly_curr) == 2 and len(poly_curr) == 2:\n",
    "        return True\n",
    "    return len(poly_curr ^ poly_prev) > 0\n",
    "\n",
    "poly1_rindex = reverse_index(poly1)\n",
    "poly2_rindex = reverse_index(poly2)\n",
    "\n",
    "\n",
    "polys = [poly1, poly2]\n",
    "rindices = [poly1_rindex, poly2_rindex]\n",
    "def rindex(vertex):\n",
    "    if len(sources[vertex]) == 1:\n",
    "        return rindices[list(sources[vertex])[0] - 1]\n",
    "    \n",
    "def poly(vertex):\n",
    "    if len(sources[vertex]) == 1:\n",
    "        return polys[list(sources[vertex])[0] - 1]\n",
    "\n",
    "def pred(vertex):\n",
    "    return poly(vertex)[rindex(vertex)[vertex] - 1]\n",
    "\n",
    "def succ(vertex):\n",
    "    return poly(vertex)[(rindex(vertex)[vertex] + 1)%len(poly(vertex))]\n",
    "\n",
    "test = []\n",
    "for i, v_curr in enumerate(merged):\n",
    "    v_prev = merged[i-1] # negative indexing when i==0 intentional\n",
    "    poly_curr, poly_prev = sources[v_curr], sources[v_prev]\n",
    "    if switch(poly_curr, poly_prev):\n",
    "        v_curr_pred = pred(v_curr)\n",
    "        v_prev_succ = succ(v_prev)\n",
    "        test.append([v_prev, v_prev_succ, v_curr, v_curr_pred])\n",
    "        inter = intersection((v_curr, v_curr_pred), (v_prev, v_prev_succ))\n",
    "        intersections.append(inter)\n",
    "\n",
    "area(intersections)"
   ]
  },
  {
   "cell_type": "code",
   "execution_count": 283,
   "id": "64b759b2-af36-44f4-9d50-da25a79bd363",
   "metadata": {},
   "outputs": [
    {
     "data": {
      "text/plain": [
       "[[(0.7071067811865476, 0.7071067811865476),\n",
       "  (-0.7071067811865476, 0.7071067811865476),\n",
       "  (0, 1),\n",
       "  (-1, 0)],\n",
       " [(0, 1),\n",
       "  (0, -1),\n",
       "  (-0.7071067811865476, 0.7071067811865476),\n",
       "  (0.7071067811865476, 0.7071067811865476)],\n",
       " [(-0.7071067811865476, -0.7071067811865476),\n",
       "  (0.7071067811865476, -0.7071067811865476),\n",
       "  (0, -1),\n",
       "  (0, 1)],\n",
       " [(-1, 0),\n",
       "  (0, 1),\n",
       "  (0.7071067811865476, -0.7071067811865476),\n",
       "  (0.7071067811865476, -0.7071067811865476)]]"
      ]
     },
     "execution_count": 283,
     "metadata": {},
     "output_type": "execute_result"
    }
   ],
   "source": [
    "test"
   ]
  },
  {
   "cell_type": "code",
   "execution_count": 284,
   "id": "771a0916-b8c6-4abb-a19a-deaacd0f40fa",
   "metadata": {},
   "outputs": [
    {
     "data": {
      "text/plain": [
       "[(-0.2928932188134524, 0.7071067811865476),\n",
       " (0, 0.7071067811865476),\n",
       " (0, -0.7071067811865476),\n",
       " (0.7071067811865476, 1.7071067811865475)]"
      ]
     },
     "execution_count": 284,
     "metadata": {},
     "output_type": "execute_result"
    }
   ],
   "source": [
    "intersections"
   ]
  },
  {
   "cell_type": "code",
   "execution_count": 285,
   "id": "fb69071d-b5ab-4270-a85a-6fa158f13673",
   "metadata": {},
   "outputs": [
    {
     "data": {
      "text/plain": [
       "(0, -1)"
      ]
     },
     "execution_count": 285,
     "metadata": {},
     "output_type": "execute_result"
    }
   ],
   "source": [
    "succ(poly1[0])"
   ]
  },
  {
   "cell_type": "code",
   "execution_count": 286,
   "id": "a68b4755-bfdd-4956-8465-30fd2ede4854",
   "metadata": {},
   "outputs": [
    {
     "data": {
      "text/plain": [
       "(-1, 0)"
      ]
     },
     "execution_count": 286,
     "metadata": {},
     "output_type": "execute_result"
    }
   ],
   "source": [
    "succ(poly1[1])"
   ]
  },
  {
   "cell_type": "code",
   "execution_count": 287,
   "id": "db739b3f-f4ea-4d84-8be0-071d85ad4e5c",
   "metadata": {},
   "outputs": [
    {
     "data": {
      "text/plain": [
       "(0, 1)"
      ]
     },
     "execution_count": 287,
     "metadata": {},
     "output_type": "execute_result"
    }
   ],
   "source": [
    "succ(poly1[2])"
   ]
  },
  {
   "cell_type": "code",
   "execution_count": 244,
   "id": "60e7ce4d-c38e-4acd-aa52-14ff1a374fa1",
   "metadata": {},
   "outputs": [
    {
     "data": {
      "text/plain": [
       "32.5"
      ]
     },
     "execution_count": 244,
     "metadata": {},
     "output_type": "execute_result"
    }
   ],
   "source": []
  },
  {
   "cell_type": "code",
   "execution_count": null,
   "id": "3c02fb14-32b4-4a6e-9be8-b6223ebf6f45",
   "metadata": {},
   "outputs": [],
   "source": []
  }
 ],
 "metadata": {
  "kernelspec": {
   "display_name": "ganoli",
   "language": "python",
   "name": "python3"
  },
  "language_info": {
   "codemirror_mode": {
    "name": "ipython",
    "version": 3
   },
   "file_extension": ".py",
   "mimetype": "text/x-python",
   "name": "python",
   "nbconvert_exporter": "python",
   "pygments_lexer": "ipython3",
   "version": "3.7.9"
  }
 },
 "nbformat": 4,
 "nbformat_minor": 5
}
